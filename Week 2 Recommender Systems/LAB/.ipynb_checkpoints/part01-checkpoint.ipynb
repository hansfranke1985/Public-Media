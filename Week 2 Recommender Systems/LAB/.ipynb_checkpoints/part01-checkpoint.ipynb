{
 "metadata": {
  "language_info": {
   "codemirror_mode": {
    "name": "ipython",
    "version": 3
   },
   "file_extension": ".py",
   "mimetype": "text/x-python",
   "name": "python",
   "nbconvert_exporter": "python",
   "pygments_lexer": "ipython3",
   "version": "3.8.0-final"
  },
  "orig_nbformat": 2,
  "kernelspec": {
   "name": "python3",
   "display_name": "Python 3.8.0 64-bit",
   "metadata": {
    "interpreter": {
     "hash": "87a320338ae0bb50e68d3534098452b48f0b85c4afe836bb7d2bb68bdd96e91e"
    }
   }
  }
 },
 "nbformat": 4,
 "nbformat_minor": 2,
 "cells": [
  {
   "cell_type": "code",
   "execution_count": 1,
   "metadata": {},
   "outputs": [
    {
     "output_type": "execute_result",
     "data": {
      "text/plain": [
       "   Unnamed: 0  user_id                   location      age        isbn  \\\n",
       "0           0        2  stockton, california, usa  18.0000  0195153448   \n",
       "1           1        8   timmins, ontario, canada  34.7439  0002005018   \n",
       "2           2    11400    ottawa, ontario, canada  49.0000  0002005018   \n",
       "3           3    11676              n/a, n/a, n/a  34.7439  0002005018   \n",
       "4           4    41385   sudbury, ontario, canada  34.7439  0002005018   \n",
       "\n",
       "   rating           book_title           book_author  year_of_publication  \\\n",
       "0       0  Classical Mythology    Mark P. O. Morford               2002.0   \n",
       "1       5         Clara Callan  Richard Bruce Wright               2001.0   \n",
       "2       0         Clara Callan  Richard Bruce Wright               2001.0   \n",
       "3       8         Clara Callan  Richard Bruce Wright               2001.0   \n",
       "4       0         Clara Callan  Richard Bruce Wright               2001.0   \n",
       "\n",
       "                 publisher                                              img_s  \\\n",
       "0  Oxford University Press  http://images.amazon.com/images/P/0195153448.0...   \n",
       "1    HarperFlamingo Canada  http://images.amazon.com/images/P/0002005018.0...   \n",
       "2    HarperFlamingo Canada  http://images.amazon.com/images/P/0002005018.0...   \n",
       "3    HarperFlamingo Canada  http://images.amazon.com/images/P/0002005018.0...   \n",
       "4    HarperFlamingo Canada  http://images.amazon.com/images/P/0002005018.0...   \n",
       "\n",
       "                                               img_m  \\\n",
       "0  http://images.amazon.com/images/P/0195153448.0...   \n",
       "1  http://images.amazon.com/images/P/0002005018.0...   \n",
       "2  http://images.amazon.com/images/P/0002005018.0...   \n",
       "3  http://images.amazon.com/images/P/0002005018.0...   \n",
       "4  http://images.amazon.com/images/P/0002005018.0...   \n",
       "\n",
       "                                               img_l  \\\n",
       "0  http://images.amazon.com/images/P/0195153448.0...   \n",
       "1  http://images.amazon.com/images/P/0002005018.0...   \n",
       "2  http://images.amazon.com/images/P/0002005018.0...   \n",
       "3  http://images.amazon.com/images/P/0002005018.0...   \n",
       "4  http://images.amazon.com/images/P/0002005018.0...   \n",
       "\n",
       "                                             Summary Language  \\\n",
       "0  Provides an introduction to classical myths pl...       en   \n",
       "1  In a small town in Canada, Clara Callan reluct...       en   \n",
       "2  In a small town in Canada, Clara Callan reluct...       en   \n",
       "3  In a small town in Canada, Clara Callan reluct...       en   \n",
       "4  In a small town in Canada, Clara Callan reluct...       en   \n",
       "\n",
       "             Category      city       state country  \n",
       "0  ['Social Science']  stockton  california     usa  \n",
       "1       ['Actresses']   timmins     ontario  canada  \n",
       "2       ['Actresses']    ottawa     ontario  canada  \n",
       "3       ['Actresses']       NaN         NaN     NaN  \n",
       "4       ['Actresses']   sudbury     ontario  canada  "
      ],
      "text/html": "<div>\n<style scoped>\n    .dataframe tbody tr th:only-of-type {\n        vertical-align: middle;\n    }\n\n    .dataframe tbody tr th {\n        vertical-align: top;\n    }\n\n    .dataframe thead th {\n        text-align: right;\n    }\n</style>\n<table border=\"1\" class=\"dataframe\">\n  <thead>\n    <tr style=\"text-align: right;\">\n      <th></th>\n      <th>Unnamed: 0</th>\n      <th>user_id</th>\n      <th>location</th>\n      <th>age</th>\n      <th>isbn</th>\n      <th>rating</th>\n      <th>book_title</th>\n      <th>book_author</th>\n      <th>year_of_publication</th>\n      <th>publisher</th>\n      <th>img_s</th>\n      <th>img_m</th>\n      <th>img_l</th>\n      <th>Summary</th>\n      <th>Language</th>\n      <th>Category</th>\n      <th>city</th>\n      <th>state</th>\n      <th>country</th>\n    </tr>\n  </thead>\n  <tbody>\n    <tr>\n      <th>0</th>\n      <td>0</td>\n      <td>2</td>\n      <td>stockton, california, usa</td>\n      <td>18.0000</td>\n      <td>0195153448</td>\n      <td>0</td>\n      <td>Classical Mythology</td>\n      <td>Mark P. O. Morford</td>\n      <td>2002.0</td>\n      <td>Oxford University Press</td>\n      <td>http://images.amazon.com/images/P/0195153448.0...</td>\n      <td>http://images.amazon.com/images/P/0195153448.0...</td>\n      <td>http://images.amazon.com/images/P/0195153448.0...</td>\n      <td>Provides an introduction to classical myths pl...</td>\n      <td>en</td>\n      <td>['Social Science']</td>\n      <td>stockton</td>\n      <td>california</td>\n      <td>usa</td>\n    </tr>\n    <tr>\n      <th>1</th>\n      <td>1</td>\n      <td>8</td>\n      <td>timmins, ontario, canada</td>\n      <td>34.7439</td>\n      <td>0002005018</td>\n      <td>5</td>\n      <td>Clara Callan</td>\n      <td>Richard Bruce Wright</td>\n      <td>2001.0</td>\n      <td>HarperFlamingo Canada</td>\n      <td>http://images.amazon.com/images/P/0002005018.0...</td>\n      <td>http://images.amazon.com/images/P/0002005018.0...</td>\n      <td>http://images.amazon.com/images/P/0002005018.0...</td>\n      <td>In a small town in Canada, Clara Callan reluct...</td>\n      <td>en</td>\n      <td>['Actresses']</td>\n      <td>timmins</td>\n      <td>ontario</td>\n      <td>canada</td>\n    </tr>\n    <tr>\n      <th>2</th>\n      <td>2</td>\n      <td>11400</td>\n      <td>ottawa, ontario, canada</td>\n      <td>49.0000</td>\n      <td>0002005018</td>\n      <td>0</td>\n      <td>Clara Callan</td>\n      <td>Richard Bruce Wright</td>\n      <td>2001.0</td>\n      <td>HarperFlamingo Canada</td>\n      <td>http://images.amazon.com/images/P/0002005018.0...</td>\n      <td>http://images.amazon.com/images/P/0002005018.0...</td>\n      <td>http://images.amazon.com/images/P/0002005018.0...</td>\n      <td>In a small town in Canada, Clara Callan reluct...</td>\n      <td>en</td>\n      <td>['Actresses']</td>\n      <td>ottawa</td>\n      <td>ontario</td>\n      <td>canada</td>\n    </tr>\n    <tr>\n      <th>3</th>\n      <td>3</td>\n      <td>11676</td>\n      <td>n/a, n/a, n/a</td>\n      <td>34.7439</td>\n      <td>0002005018</td>\n      <td>8</td>\n      <td>Clara Callan</td>\n      <td>Richard Bruce Wright</td>\n      <td>2001.0</td>\n      <td>HarperFlamingo Canada</td>\n      <td>http://images.amazon.com/images/P/0002005018.0...</td>\n      <td>http://images.amazon.com/images/P/0002005018.0...</td>\n      <td>http://images.amazon.com/images/P/0002005018.0...</td>\n      <td>In a small town in Canada, Clara Callan reluct...</td>\n      <td>en</td>\n      <td>['Actresses']</td>\n      <td>NaN</td>\n      <td>NaN</td>\n      <td>NaN</td>\n    </tr>\n    <tr>\n      <th>4</th>\n      <td>4</td>\n      <td>41385</td>\n      <td>sudbury, ontario, canada</td>\n      <td>34.7439</td>\n      <td>0002005018</td>\n      <td>0</td>\n      <td>Clara Callan</td>\n      <td>Richard Bruce Wright</td>\n      <td>2001.0</td>\n      <td>HarperFlamingo Canada</td>\n      <td>http://images.amazon.com/images/P/0002005018.0...</td>\n      <td>http://images.amazon.com/images/P/0002005018.0...</td>\n      <td>http://images.amazon.com/images/P/0002005018.0...</td>\n      <td>In a small town in Canada, Clara Callan reluct...</td>\n      <td>en</td>\n      <td>['Actresses']</td>\n      <td>sudbury</td>\n      <td>ontario</td>\n      <td>canada</td>\n    </tr>\n  </tbody>\n</table>\n</div>"
     },
     "metadata": {},
     "execution_count": 1
    }
   ],
   "source": [
    "# import libraries\n",
    "import pandas as pd\n",
    "\n",
    "# load the dataset\n",
    "books_df = pd.read_csv('data/books/books.csv', low_memory=False)\n",
    "\n",
    "# quick preview\n",
    "books_df.head(5)"
   ]
  },
  {
   "cell_type": "code",
   "execution_count": 2,
   "metadata": {},
   "outputs": [
    {
     "output_type": "execute_result",
     "data": {
      "text/plain": [
       "(-0.011, 1.0]    648804\n",
       "(1.0, 2.0]         2375\n",
       "(2.0, 3.0]         5118\n",
       "(3.0, 4.0]         7617\n",
       "(4.0, 5.0]        45355\n",
       "(5.0, 6.0]        31689\n",
       "(6.0, 7.0]        66404\n",
       "(7.0, 8.0]        91806\n",
       "(8.0, 9.0]        60780\n",
       "(9.0, 10.0]       71227\n",
       "Name: rating, dtype: int64"
      ]
     },
     "metadata": {},
     "execution_count": 2
    }
   ],
   "source": [
    "# \n",
    "books_df['rating'].value_counts(bins = 10).sort_index()"
   ]
  },
  {
   "cell_type": "code",
   "execution_count": 3,
   "metadata": {},
   "outputs": [
    {
     "output_type": "execute_result",
     "data": {
      "text/plain": [
       "Empty DataFrame\n",
       "Columns: [Unnamed: 0, user_id, location, age, isbn, rating, book_title, book_author, year_of_publication, publisher, img_s, img_m, img_l, Summary, Language, Category, city, state, country]\n",
       "Index: []"
      ],
      "text/html": "<div>\n<style scoped>\n    .dataframe tbody tr th:only-of-type {\n        vertical-align: middle;\n    }\n\n    .dataframe tbody tr th {\n        vertical-align: top;\n    }\n\n    .dataframe thead th {\n        text-align: right;\n    }\n</style>\n<table border=\"1\" class=\"dataframe\">\n  <thead>\n    <tr style=\"text-align: right;\">\n      <th></th>\n      <th>Unnamed: 0</th>\n      <th>user_id</th>\n      <th>location</th>\n      <th>age</th>\n      <th>isbn</th>\n      <th>rating</th>\n      <th>book_title</th>\n      <th>book_author</th>\n      <th>year_of_publication</th>\n      <th>publisher</th>\n      <th>img_s</th>\n      <th>img_m</th>\n      <th>img_l</th>\n      <th>Summary</th>\n      <th>Language</th>\n      <th>Category</th>\n      <th>city</th>\n      <th>state</th>\n      <th>country</th>\n    </tr>\n  </thead>\n  <tbody>\n  </tbody>\n</table>\n</div>"
     },
     "metadata": {},
     "execution_count": 3
    }
   ],
   "source": [
    "# weird value?\n",
    "books_df[books_df['rating'] < 0]"
   ]
  },
  {
   "cell_type": "code",
   "execution_count": 7,
   "metadata": {},
   "outputs": [
    {
     "output_type": "execute_result",
     "data": {
      "text/plain": [
       "                                                    rating\n",
       "book_title                                                \n",
       "Sherlock Holmes and the Titanic Tragedy: A Case...    10.0\n",
       "Le Roman inachevÃ?Â©                                  10.0\n",
       "Praise of Folly and Letter to Maarten Van Dorp ...    10.0\n",
       "Electric Mischief: Battery-Powered Gadgets Kids...    10.0\n",
       "Back to the Light. Zur Aktion Kinderfreundliche...    10.0\n",
       "I Just Got A Puppy, What Do I Do? : How to Buy,...    10.0\n",
       "Darwinism Evolving: Systems Dynamics and the Ge...    10.0\n",
       "I Killed Charles Bronson's Cat                        10.0\n",
       "Conversations With the Goddess: Revealing the D...    10.0\n",
       "Darwin: The Life of a Tormented Evolutionist          10.0"
      ],
      "text/html": "<div>\n<style scoped>\n    .dataframe tbody tr th:only-of-type {\n        vertical-align: middle;\n    }\n\n    .dataframe tbody tr th {\n        vertical-align: top;\n    }\n\n    .dataframe thead th {\n        text-align: right;\n    }\n</style>\n<table border=\"1\" class=\"dataframe\">\n  <thead>\n    <tr style=\"text-align: right;\">\n      <th></th>\n      <th>rating</th>\n    </tr>\n    <tr>\n      <th>book_title</th>\n      <th></th>\n    </tr>\n  </thead>\n  <tbody>\n    <tr>\n      <th>Sherlock Holmes and the Titanic Tragedy: A Case to Remember</th>\n      <td>10.0</td>\n    </tr>\n    <tr>\n      <th>Le Roman inachevÃ?Â©</th>\n      <td>10.0</td>\n    </tr>\n    <tr>\n      <th>Praise of Folly and Letter to Maarten Van Dorp (Penguin Classics)</th>\n      <td>10.0</td>\n    </tr>\n    <tr>\n      <th>Electric Mischief: Battery-Powered Gadgets Kids Can Build (Kids Can Do It)</th>\n      <td>10.0</td>\n    </tr>\n    <tr>\n      <th>Back to the Light. Zur Aktion Kinderfreundliches Deutschland.</th>\n      <td>10.0</td>\n    </tr>\n    <tr>\n      <th>I Just Got A Puppy, What Do I Do? : How to Buy, Train, Understand, and Enjoy Your Puppy</th>\n      <td>10.0</td>\n    </tr>\n    <tr>\n      <th>Darwinism Evolving: Systems Dynamics and the Genealogy of Natural Selection</th>\n      <td>10.0</td>\n    </tr>\n    <tr>\n      <th>I Killed Charles Bronson's Cat</th>\n      <td>10.0</td>\n    </tr>\n    <tr>\n      <th>Conversations With the Goddess: Revealing the Divine Power Within You</th>\n      <td>10.0</td>\n    </tr>\n    <tr>\n      <th>Darwin: The Life of a Tormented Evolutionist</th>\n      <td>10.0</td>\n    </tr>\n  </tbody>\n</table>\n</div>"
     },
     "metadata": {},
     "execution_count": 7
    }
   ],
   "source": [
    "# calculate average\n",
    "avg_rating_df = books_df[['book_title', 'rating']].groupby(['book_title']).mean()\n",
    "avg_rating_df = avg_rating_df.sort_values('rating', ascending=False)\n",
    "avg_rating_df.head(10)"
   ]
  },
  {
   "cell_type": "code",
   "execution_count": 10,
   "metadata": {},
   "outputs": [
    {
     "output_type": "execute_result",
     "data": {
      "text/plain": [
       "                                                    vote_average  vote_count\n",
       "book_title                                                                  \n",
       "Sherlock Holmes and the Titanic Tragedy: A Case...          10.0           1\n",
       "Le Roman inachevÃ?Â©                                        10.0           1\n",
       "Praise of Folly and Letter to Maarten Van Dorp ...          10.0           1\n",
       "Electric Mischief: Battery-Powered Gadgets Kids...          10.0           1\n",
       "Back to the Light. Zur Aktion Kinderfreundliche...          10.0           1\n",
       "I Just Got A Puppy, What Do I Do? : How to Buy,...          10.0           1\n",
       "Darwinism Evolving: Systems Dynamics and the Ge...          10.0           1\n",
       "I Killed Charles Bronson's Cat                              10.0           1\n",
       "Conversations With the Goddess: Revealing the D...          10.0           1\n",
       "Darwin: The Life of a Tormented Evolutionist                10.0           1"
      ],
      "text/html": "<div>\n<style scoped>\n    .dataframe tbody tr th:only-of-type {\n        vertical-align: middle;\n    }\n\n    .dataframe tbody tr th {\n        vertical-align: top;\n    }\n\n    .dataframe thead th {\n        text-align: right;\n    }\n</style>\n<table border=\"1\" class=\"dataframe\">\n  <thead>\n    <tr style=\"text-align: right;\">\n      <th></th>\n      <th>vote_average</th>\n      <th>vote_count</th>\n    </tr>\n    <tr>\n      <th>book_title</th>\n      <th></th>\n      <th></th>\n    </tr>\n  </thead>\n  <tbody>\n    <tr>\n      <th>Sherlock Holmes and the Titanic Tragedy: A Case to Remember</th>\n      <td>10.0</td>\n      <td>1</td>\n    </tr>\n    <tr>\n      <th>Le Roman inachevÃ?Â©</th>\n      <td>10.0</td>\n      <td>1</td>\n    </tr>\n    <tr>\n      <th>Praise of Folly and Letter to Maarten Van Dorp (Penguin Classics)</th>\n      <td>10.0</td>\n      <td>1</td>\n    </tr>\n    <tr>\n      <th>Electric Mischief: Battery-Powered Gadgets Kids Can Build (Kids Can Do It)</th>\n      <td>10.0</td>\n      <td>1</td>\n    </tr>\n    <tr>\n      <th>Back to the Light. Zur Aktion Kinderfreundliches Deutschland.</th>\n      <td>10.0</td>\n      <td>1</td>\n    </tr>\n    <tr>\n      <th>I Just Got A Puppy, What Do I Do? : How to Buy, Train, Understand, and Enjoy Your Puppy</th>\n      <td>10.0</td>\n      <td>1</td>\n    </tr>\n    <tr>\n      <th>Darwinism Evolving: Systems Dynamics and the Genealogy of Natural Selection</th>\n      <td>10.0</td>\n      <td>1</td>\n    </tr>\n    <tr>\n      <th>I Killed Charles Bronson's Cat</th>\n      <td>10.0</td>\n      <td>1</td>\n    </tr>\n    <tr>\n      <th>Conversations With the Goddess: Revealing the Divine Power Within You</th>\n      <td>10.0</td>\n      <td>1</td>\n    </tr>\n    <tr>\n      <th>Darwin: The Life of a Tormented Evolutionist</th>\n      <td>10.0</td>\n      <td>1</td>\n    </tr>\n  </tbody>\n</table>\n</div>"
     },
     "metadata": {},
     "execution_count": 10
    }
   ],
   "source": [
    "# calculate average with count\n",
    "avg_rating_df = books_df.groupby(['book_title'])['rating'].agg(['mean', 'count'])\n",
    "avg_rating_df.rename(columns={'mean': 'vote_average', 'count': 'vote_count'}, inplace=True)\n",
    "avg_rating_df.sort_values('vote_average', ascending=False).head(10)"
   ]
  },
  {
   "cell_type": "code",
   "execution_count": 18,
   "metadata": {},
   "outputs": [
    {
     "output_type": "execute_result",
     "data": {
      "text/plain": [
       "                                                    vote_average  vote_count\n",
       "book_title                                                                  \n",
       " Earth Prayers From around the World: 365 Praye...      5.000000          10\n",
       " Good Wives: Image and Reality in the Lives of ...      3.200000          10\n",
       " Goosebumps Monster Edition 1: Welcome to Dead ...      2.222222           9\n",
       " Murder of a Sleeping Beauty (Scumble River Mys...      3.181818          11\n",
       " Q-Space (Star Trek The Next Generation, Book 47)       1.941176          17"
      ],
      "text/html": "<div>\n<style scoped>\n    .dataframe tbody tr th:only-of-type {\n        vertical-align: middle;\n    }\n\n    .dataframe tbody tr th {\n        vertical-align: top;\n    }\n\n    .dataframe thead th {\n        text-align: right;\n    }\n</style>\n<table border=\"1\" class=\"dataframe\">\n  <thead>\n    <tr style=\"text-align: right;\">\n      <th></th>\n      <th>vote_average</th>\n      <th>vote_count</th>\n    </tr>\n    <tr>\n      <th>book_title</th>\n      <th></th>\n      <th></th>\n    </tr>\n  </thead>\n  <tbody>\n    <tr>\n      <th>Earth Prayers From around the World: 365 Prayers, Poems, and Invocations for Honoring the Earth</th>\n      <td>5.000000</td>\n      <td>10</td>\n    </tr>\n    <tr>\n      <th>Good Wives: Image and Reality in the Lives of Women in Northern New England, 1650-1750</th>\n      <td>3.200000</td>\n      <td>10</td>\n    </tr>\n    <tr>\n      <th>Goosebumps Monster Edition 1: Welcome to Dead House, Stay Out of the Basement, and Say Cheese and Die!</th>\n      <td>2.222222</td>\n      <td>9</td>\n    </tr>\n    <tr>\n      <th>Murder of a Sleeping Beauty (Scumble River Mysteries (Paperback))</th>\n      <td>3.181818</td>\n      <td>11</td>\n    </tr>\n    <tr>\n      <th>Q-Space (Star Trek The Next Generation, Book 47)</th>\n      <td>1.941176</td>\n      <td>17</td>\n    </tr>\n  </tbody>\n</table>\n</div>"
     },
     "metadata": {},
     "execution_count": 18
    }
   ],
   "source": [
    "# C is the mean vote or rating across the whole dataframe\n",
    "C = avg_rating_df['vote_average'].mean()\n",
    "\n",
    "# m is the minimum votes or ratings to be listed\n",
    "m = avg_rating_df['vote_count'].quantile(0.90)\n",
    "m\n",
    "\n",
    "# new data frame (redundant)\n",
    "q_books = avg_rating_df.copy().loc[avg_rating_df['vote_count'] > m]\n",
    "q_books.head(5)\n"
   ]
  },
  {
   "cell_type": "code",
   "execution_count": 19,
   "metadata": {},
   "outputs": [],
   "source": [
    "# weight function\n",
    "def weighted_rating(x, m=m, C=C):\n",
    "    v = x['vote_count']\n",
    "    R = x['vote_average']\n",
    "    return (v/(v+m) * R) + (m/(m+v) * C)"
   ]
  },
  {
   "cell_type": "code",
   "execution_count": 25,
   "metadata": {},
   "outputs": [
    {
     "output_type": "execute_result",
     "data": {
      "text/plain": [
       "                                                    vote_average  vote_count  \\\n",
       "book_title                                                                     \n",
       "Free                                                    8.017857          56   \n",
       "The Stand (The Complete and Uncut Edition)              6.175439          57   \n",
       "Harry Potter and the Prisoner of Azkaban (Book 3)       5.852804         428   \n",
       "Harry Potter and the Goblet of Fire (Book 4)            5.824289         387   \n",
       "Griffin & Sabine: An Extraordinary Correspondence       6.041667          72   \n",
       "The Little Prince                                       5.815603         141   \n",
       "Harry Potter and the Sorcerer's Stone (Book 1)          5.737410         278   \n",
       "The Hobbit                                              5.700000          80   \n",
       "Harry Potter and the Order of the Phoenix (Book 5)      5.501441         347   \n",
       "The Cat in the Hat                                      5.754717          53   \n",
       "\n",
       "                                                       score  \n",
       "book_title                                                    \n",
       "Free                                                7.448099  \n",
       "The Stand (The Complete and Uncut Edition)          5.816097  \n",
       "Harry Potter and the Prisoner of Azkaban (Book 3)   5.805127  \n",
       "Harry Potter and the Goblet of Fire (Book 4)        5.772158  \n",
       "Griffin & Sabine: An Extraordinary Correspondence   5.762408  \n",
       "The Little Prince                                   5.677231  \n",
       "Harry Potter and the Sorcerer's Stone (Book 1)      5.667474  \n",
       "The Hobbit                                          5.473910  \n",
       "Harry Potter and the Order of the Phoenix (Book 5)  5.449803  \n",
       "The Cat in the Hat                                  5.420504  "
      ],
      "text/html": "<div>\n<style scoped>\n    .dataframe tbody tr th:only-of-type {\n        vertical-align: middle;\n    }\n\n    .dataframe tbody tr th {\n        vertical-align: top;\n    }\n\n    .dataframe thead th {\n        text-align: right;\n    }\n</style>\n<table border=\"1\" class=\"dataframe\">\n  <thead>\n    <tr style=\"text-align: right;\">\n      <th></th>\n      <th>vote_average</th>\n      <th>vote_count</th>\n      <th>score</th>\n    </tr>\n    <tr>\n      <th>book_title</th>\n      <th></th>\n      <th></th>\n      <th></th>\n    </tr>\n  </thead>\n  <tbody>\n    <tr>\n      <th>Free</th>\n      <td>8.017857</td>\n      <td>56</td>\n      <td>7.448099</td>\n    </tr>\n    <tr>\n      <th>The Stand (The Complete and Uncut Edition)</th>\n      <td>6.175439</td>\n      <td>57</td>\n      <td>5.816097</td>\n    </tr>\n    <tr>\n      <th>Harry Potter and the Prisoner of Azkaban (Book 3)</th>\n      <td>5.852804</td>\n      <td>428</td>\n      <td>5.805127</td>\n    </tr>\n    <tr>\n      <th>Harry Potter and the Goblet of Fire (Book 4)</th>\n      <td>5.824289</td>\n      <td>387</td>\n      <td>5.772158</td>\n    </tr>\n    <tr>\n      <th>Griffin &amp; Sabine: An Extraordinary Correspondence</th>\n      <td>6.041667</td>\n      <td>72</td>\n      <td>5.762408</td>\n    </tr>\n    <tr>\n      <th>The Little Prince</th>\n      <td>5.815603</td>\n      <td>141</td>\n      <td>5.677231</td>\n    </tr>\n    <tr>\n      <th>Harry Potter and the Sorcerer's Stone (Book 1)</th>\n      <td>5.737410</td>\n      <td>278</td>\n      <td>5.667474</td>\n    </tr>\n    <tr>\n      <th>The Hobbit</th>\n      <td>5.700000</td>\n      <td>80</td>\n      <td>5.473910</td>\n    </tr>\n    <tr>\n      <th>Harry Potter and the Order of the Phoenix (Book 5)</th>\n      <td>5.501441</td>\n      <td>347</td>\n      <td>5.449803</td>\n    </tr>\n    <tr>\n      <th>The Cat in the Hat</th>\n      <td>5.754717</td>\n      <td>53</td>\n      <td>5.420504</td>\n    </tr>\n  </tbody>\n</table>\n</div>"
     },
     "metadata": {},
     "execution_count": 25
    }
   ],
   "source": [
    "# check the new scores\n",
    "avg_rating_df2 = avg_rating_df.copy().loc[avg_rating_df['vote_count'] >= m]\n",
    "avg_rating_df2['score'] = avg_rating_df2.apply(weighted_rating, axis=1)\n",
    "avg_rating_df2.sort_values('score', ascending=False).head(10)"
   ]
  },
  {
   "cell_type": "code",
   "execution_count": null,
   "metadata": {},
   "outputs": [],
   "source": []
  }
 ]
}