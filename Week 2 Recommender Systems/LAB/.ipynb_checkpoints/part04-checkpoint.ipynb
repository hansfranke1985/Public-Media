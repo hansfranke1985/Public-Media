{
 "metadata": {
  "language_info": {
   "codemirror_mode": {
    "name": "ipython",
    "version": 3
   },
   "file_extension": ".py",
   "mimetype": "text/x-python",
   "name": "python",
   "nbconvert_exporter": "python",
   "pygments_lexer": "ipython3",
   "version": "3.8.0-final"
  },
  "orig_nbformat": 2,
  "kernelspec": {
   "name": "python3",
   "display_name": "Python 3.8.0 64-bit",
   "metadata": {
    "interpreter": {
     "hash": "87a320338ae0bb50e68d3534098452b48f0b85c4afe836bb7d2bb68bdd96e91e"
    }
   }
  }
 },
 "nbformat": 4,
 "nbformat_minor": 2,
 "cells": [
  {
   "cell_type": "code",
   "execution_count": 2,
   "metadata": {},
   "outputs": [],
   "source": [
    "# Import Pandas\n",
    "import pandas as pd\n",
    "\n",
    "# Load Movies Metadata\n",
    "books_df = pd.read_csv('data/books/books.csv', low_memory=False)"
   ]
  },
  {
   "cell_type": "code",
   "execution_count": 3,
   "metadata": {},
   "outputs": [
    {
     "output_type": "execute_result",
     "data": {
      "text/plain": [
       "(13132, 7)"
      ]
     },
     "metadata": {},
     "execution_count": 3
    }
   ],
   "source": [
    "smaller_selection = books_df.groupby(['book_title', 'Summary', 'book_author', 'year_of_publication', 'Category']).size().reset_index(name='counts')\n",
    "smaller_selection = smaller_selection[smaller_selection['counts'] > 8]\n",
    "smaller_selection = smaller_selection[smaller_selection['Summary'] != '9']\n",
    "smaller_selection = smaller_selection.reset_index()\n",
    "smaller_selection.shape"
   ]
  },
  {
   "cell_type": "code",
   "execution_count": 5,
   "metadata": {},
   "outputs": [
    {
     "output_type": "execute_result",
     "data": {
      "text/plain": [
       "(13132, 28789)"
      ]
     },
     "metadata": {},
     "execution_count": 5
    }
   ],
   "source": [
    "# import TfidfVectorize\n",
    "from sklearn.feature_extraction.text import TfidfVectorizer\n",
    "\n",
    "tfidf = TfidfVectorizer(stop_words='english')\n",
    "\n",
    "smaller_selection['Summary'] = smaller_selection['Summary'].fillna('')\n",
    "\n",
    "tfidf_matrix = tfidf.fit_transform(smaller_selection['Summary'])\n",
    "\n",
    "tfidf_matrix.shape\n"
   ]
  },
  {
   "cell_type": "code",
   "execution_count": 6,
   "metadata": {},
   "outputs": [],
   "source": [
    "from sklearn.metrics.pairwise import linear_kernel\n",
    "\n",
    "cosine_sim = linear_kernel(tfidf_matrix, tfidf_matrix)"
   ]
  },
  {
   "cell_type": "code",
   "execution_count": 7,
   "metadata": {},
   "outputs": [
    {
     "output_type": "execute_result",
     "data": {
      "text/plain": [
       "array([[1.        , 0.05862086, 0.        , ..., 0.        , 0.02489951,\n",
       "        0.        ],\n",
       "       [0.05862086, 1.        , 0.        , ..., 0.        , 0.04009198,\n",
       "        0.        ],\n",
       "       [0.        , 0.        , 1.        , ..., 0.        , 0.        ,\n",
       "        0.        ],\n",
       "       ...,\n",
       "       [0.        , 0.        , 0.        , ..., 1.        , 0.        ,\n",
       "        0.        ],\n",
       "       [0.02489951, 0.04009198, 0.        , ..., 0.        , 1.        ,\n",
       "        0.01775478],\n",
       "       [0.        , 0.        , 0.        , ..., 0.        , 0.01775478,\n",
       "        1.        ]])"
      ]
     },
     "metadata": {},
     "execution_count": 7
    }
   ],
   "source": [
    "cosine_sim"
   ]
  },
  {
   "cell_type": "code",
   "execution_count": 18,
   "metadata": {},
   "outputs": [],
   "source": [
    "indices = pd.Series(smaller_selection.index, index=smaller_selection['book_title']).drop_duplicates()"
   ]
  },
  {
   "cell_type": "code",
   "execution_count": 19,
   "metadata": {},
   "outputs": [
    {
     "output_type": "execute_result",
     "data": {
      "text/plain": [
       "book_title\n",
       " Good Wives: Image and Reality in the Lives of Women in Northern New England, 1650-1750        0\n",
       " This Place Has No Atmosphere (Laurel-Leaf Books)                                              1\n",
       "'Salem's Lot                                                                                   2\n",
       "01-01-00: The Novel of the Millennium                                                          3\n",
       "1,000 Places to See Before You Die                                                             4\n",
       "                                                                                           ...  \n",
       "my three girls  (count on a cop)                                                           13127\n",
       "one hundred years of solitude                                                              13128\n",
       "together by christmas                                                                      13129\n",
       "why I'm like this : True Stories                                                           13130\n",
       "Â¿QuÃ© me quieres, amor?                                                                   13131\n",
       "Length: 13132, dtype: int64"
      ]
     },
     "metadata": {},
     "execution_count": 19
    }
   ],
   "source": [
    "indices"
   ]
  },
  {
   "cell_type": "code",
   "execution_count": 20,
   "metadata": {},
   "outputs": [],
   "source": [
    "def get_recommendations(title, cosine_sim=cosine_sim):\n",
    "    # Get the index of the movie that matches the title\n",
    "    idx = indices[title]\n",
    "\n",
    "    # Get the pairwsie similarity scores of all movies with that movie\n",
    "    sim_scores = list(enumerate(cosine_sim[idx]))\n",
    "\n",
    "    # Sort the movies based on the similarity scores\n",
    "    sim_scores = sorted(sim_scores, key=lambda x: x[1], reverse=True)\n",
    "\n",
    "    # Get the scores of the 10 most similar movies\n",
    "    sim_scores = sim_scores[1:11]\n",
    "\n",
    "    # Get the movie indices\n",
    "    movie_indices = [i[0] for i in sim_scores]\n",
    "\n",
    "    # Return the top 10 most similar movies\n",
    "    return smaller_selection.iloc[movie_indices]"
   ]
  },
  {
   "cell_type": "code",
   "execution_count": 24,
   "metadata": {},
   "outputs": [
    {
     "output_type": "execute_result",
     "data": {
      "text/plain": [
       "        index                                         book_title  \\\n",
       "9683   204392       The Da Vinci Code (Random House Large Print)   \n",
       "9684   204396                                The Da Vinci Legacy   \n",
       "1072    21655                                            Baggage   \n",
       "2223    45135  Cracking the Da Vinci Code : The Unauthorized ...   \n",
       "6213   136088                                         Moon Women   \n",
       "3384    71641                    Family Secrets: Pyramid of Lies   \n",
       "2766    57743                      Digital Fortress : A Thriller   \n",
       "11433  232200                              The Solitaire Mystery   \n",
       "3634    76495                                      Fool's Puzzle   \n",
       "6953   150464                                             Others   \n",
       "\n",
       "                                                 Summary         book_author  \\\n",
       "9683   Harvard symbologist Robert Langdon and French ...           DAN BROWN   \n",
       "9684   The Da Vinci Legacy First published in 1983, T...        Lewis Perdue   \n",
       "1072   Inseparable throughout high school, Sophie and...          Emily Barr   \n",
       "2223   Uses an A to Z format to answer questions abou...           Simon Cox   \n",
       "6213   Ruth Ann&#39;s life is turned upside down when...       Pamela Duncan   \n",
       "3384   Cryptologist Gretchen Wagner embarks on a desp...  Anne Marie Winston   \n",
       "2766   Before the multi-million, runaway bestseller T...           Dan Brown   \n",
       "11433  The author of the best-selling Sophie&#39;s Wo...     Jostein Gaarder   \n",
       "3634   Benni Harper starts over as curator of a folk-...      Earlene Fowler   \n",
       "6953   Hired to find a baby stolen at birth, Nicholas...       James Herbert   \n",
       "\n",
       "       year_of_publication      Category  counts  \n",
       "9683                2003.0   ['Fiction']       9  \n",
       "9684                2004.0   ['Fiction']      27  \n",
       "1072                2003.0   ['Fiction']      12  \n",
       "2223                2004.0  ['Religion']      11  \n",
       "6213                2001.0   ['Fiction']      17  \n",
       "3384                2003.0   ['Fiction']       9  \n",
       "2766                2000.0   ['Fiction']      85  \n",
       "11433               1997.0   ['Fiction']      23  \n",
       "3634                1995.0   ['Fiction']      34  \n",
       "6953                2000.0   ['Fiction']      11  "
      ],
      "text/html": "<div>\n<style scoped>\n    .dataframe tbody tr th:only-of-type {\n        vertical-align: middle;\n    }\n\n    .dataframe tbody tr th {\n        vertical-align: top;\n    }\n\n    .dataframe thead th {\n        text-align: right;\n    }\n</style>\n<table border=\"1\" class=\"dataframe\">\n  <thead>\n    <tr style=\"text-align: right;\">\n      <th></th>\n      <th>index</th>\n      <th>book_title</th>\n      <th>Summary</th>\n      <th>book_author</th>\n      <th>year_of_publication</th>\n      <th>Category</th>\n      <th>counts</th>\n    </tr>\n  </thead>\n  <tbody>\n    <tr>\n      <th>9683</th>\n      <td>204392</td>\n      <td>The Da Vinci Code (Random House Large Print)</td>\n      <td>Harvard symbologist Robert Langdon and French ...</td>\n      <td>DAN BROWN</td>\n      <td>2003.0</td>\n      <td>['Fiction']</td>\n      <td>9</td>\n    </tr>\n    <tr>\n      <th>9684</th>\n      <td>204396</td>\n      <td>The Da Vinci Legacy</td>\n      <td>The Da Vinci Legacy First published in 1983, T...</td>\n      <td>Lewis Perdue</td>\n      <td>2004.0</td>\n      <td>['Fiction']</td>\n      <td>27</td>\n    </tr>\n    <tr>\n      <th>1072</th>\n      <td>21655</td>\n      <td>Baggage</td>\n      <td>Inseparable throughout high school, Sophie and...</td>\n      <td>Emily Barr</td>\n      <td>2003.0</td>\n      <td>['Fiction']</td>\n      <td>12</td>\n    </tr>\n    <tr>\n      <th>2223</th>\n      <td>45135</td>\n      <td>Cracking the Da Vinci Code : The Unauthorized ...</td>\n      <td>Uses an A to Z format to answer questions abou...</td>\n      <td>Simon Cox</td>\n      <td>2004.0</td>\n      <td>['Religion']</td>\n      <td>11</td>\n    </tr>\n    <tr>\n      <th>6213</th>\n      <td>136088</td>\n      <td>Moon Women</td>\n      <td>Ruth Ann&amp;#39;s life is turned upside down when...</td>\n      <td>Pamela Duncan</td>\n      <td>2001.0</td>\n      <td>['Fiction']</td>\n      <td>17</td>\n    </tr>\n    <tr>\n      <th>3384</th>\n      <td>71641</td>\n      <td>Family Secrets: Pyramid of Lies</td>\n      <td>Cryptologist Gretchen Wagner embarks on a desp...</td>\n      <td>Anne Marie Winston</td>\n      <td>2003.0</td>\n      <td>['Fiction']</td>\n      <td>9</td>\n    </tr>\n    <tr>\n      <th>2766</th>\n      <td>57743</td>\n      <td>Digital Fortress : A Thriller</td>\n      <td>Before the multi-million, runaway bestseller T...</td>\n      <td>Dan Brown</td>\n      <td>2000.0</td>\n      <td>['Fiction']</td>\n      <td>85</td>\n    </tr>\n    <tr>\n      <th>11433</th>\n      <td>232200</td>\n      <td>The Solitaire Mystery</td>\n      <td>The author of the best-selling Sophie&amp;#39;s Wo...</td>\n      <td>Jostein Gaarder</td>\n      <td>1997.0</td>\n      <td>['Fiction']</td>\n      <td>23</td>\n    </tr>\n    <tr>\n      <th>3634</th>\n      <td>76495</td>\n      <td>Fool's Puzzle</td>\n      <td>Benni Harper starts over as curator of a folk-...</td>\n      <td>Earlene Fowler</td>\n      <td>1995.0</td>\n      <td>['Fiction']</td>\n      <td>34</td>\n    </tr>\n    <tr>\n      <th>6953</th>\n      <td>150464</td>\n      <td>Others</td>\n      <td>Hired to find a baby stolen at birth, Nicholas...</td>\n      <td>James Herbert</td>\n      <td>2000.0</td>\n      <td>['Fiction']</td>\n      <td>11</td>\n    </tr>\n  </tbody>\n</table>\n</div>"
     },
     "metadata": {},
     "execution_count": 24
    }
   ],
   "source": [
    "get_recommendations('The Da Vinci Code')"
   ]
  },
  {
   "cell_type": "code",
   "execution_count": null,
   "metadata": {},
   "outputs": [],
   "source": []
  }
 ]
}