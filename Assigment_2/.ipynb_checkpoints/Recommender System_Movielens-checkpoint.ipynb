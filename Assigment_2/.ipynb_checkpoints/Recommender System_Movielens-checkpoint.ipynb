{
 "cells": [
  {
   "cell_type": "code",
   "execution_count": 178,
   "metadata": {},
   "outputs": [],
   "source": [
    "# import libraries\n",
    "import pandas as pd\n",
    "\n",
    "# load the dataset big\n",
    "#movies_df = pd.read_csv('ml-latest/movies.csv', low_memory=False)\n",
    "#genome_score_df = pd.read_csv('ml-latest/genome-scores.csv', low_memory=False)\n",
    "#genome_tags_df = pd.read_csv('ml-latest/genome-tags.csv', low_memory=False)\n",
    "#links_df = pd.read_csv('ml-latest/links.csv', low_memory=False)\n",
    "#ratings_df = pd.read_csv('ml-latest/ratings.csv', low_memory=False)\n",
    "#tags_df = pd.read_csv('ml-latest/tags.csv', low_memory=False)"
   ]
  },
  {
   "cell_type": "code",
   "execution_count": 179,
   "metadata": {},
   "outputs": [],
   "source": [
    "import pandas as pd\n",
    "# load the dataset small\n",
    "movies_df = pd.read_csv('ml-small/movies.csv')\n",
    "ratings_df = pd.read_csv('ml-small/ratings.csv')\n",
    "links_df = pd.read_csv('ml-small/links.csv')\n",
    "tags_df = pd.read_csv('ml-small/tags.csv', low_memory=False)"
   ]
  },
  {
   "cell_type": "code",
   "execution_count": 180,
   "metadata": {},
   "outputs": [
    {
     "name": "stdout",
     "output_type": "stream",
     "text": [
      "(9742, 3)\n",
      "(9742, 3)\n",
      "(100836, 4)\n",
      "(3683, 4)\n"
     ]
    }
   ],
   "source": [
    "print(movies_df.shape)\n",
    "print(links_df.shape)\n",
    "print(ratings_df.shape)\n",
    "print(tags_df.shape)"
   ]
  },
  {
   "cell_type": "code",
   "execution_count": 181,
   "metadata": {},
   "outputs": [
    {
     "name": "stdout",
     "output_type": "stream",
     "text": [
      "   movieId                               title  \\\n",
      "0        1                    Toy Story (1995)   \n",
      "1        2                      Jumanji (1995)   \n",
      "2        3             Grumpier Old Men (1995)   \n",
      "3        4            Waiting to Exhale (1995)   \n",
      "4        5  Father of the Bride Part II (1995)   \n",
      "\n",
      "                                        genres  \n",
      "0  Adventure|Animation|Children|Comedy|Fantasy  \n",
      "1                   Adventure|Children|Fantasy  \n",
      "2                               Comedy|Romance  \n",
      "3                         Comedy|Drama|Romance  \n",
      "4                                       Comedy  \n",
      "\n",
      "\n",
      "   movieId  imdbId   tmdbId\n",
      "0        1  114709    862.0\n",
      "1        2  113497   8844.0\n",
      "2        3  113228  15602.0\n",
      "3        4  114885  31357.0\n",
      "4        5  113041  11862.0\n",
      "\n",
      "\n",
      "   userId  movieId  rating  timestamp\n",
      "0       1        1     4.0  964982703\n",
      "1       1        3     4.0  964981247\n",
      "2       1        6     4.0  964982224\n",
      "3       1       47     5.0  964983815\n",
      "4       1       50     5.0  964982931\n",
      "\n",
      "\n",
      "   userId  movieId              tag   timestamp\n",
      "0       2    60756            funny  1445714994\n",
      "1       2    60756  Highly quotable  1445714996\n",
      "2       2    60756     will ferrell  1445714992\n",
      "3       2    89774     Boxing story  1445715207\n",
      "4       2    89774              MMA  1445715200\n"
     ]
    }
   ],
   "source": [
    "#quick overview of datasets to look for potential key to merge df\n",
    "print(movies_df.head())\n",
    "print(\"\\n\")\n",
    "print(links_df.head())\n",
    "print(\"\\n\")\n",
    "print(ratings_df.head())\n",
    "print(\"\\n\")\n",
    "print(tags_df.head())"
   ]
  },
  {
   "cell_type": "code",
   "execution_count": 182,
   "metadata": {},
   "outputs": [
    {
     "data": {
      "text/plain": [
       "(233213, 10)"
      ]
     },
     "execution_count": 182,
     "metadata": {},
     "output_type": "execute_result"
    }
   ],
   "source": [
    "#drop timestamp from tags_df (avoid double timestamps)\n",
    "tags_df.drop(columns='timestamp', inplace=True)\n",
    "\n",
    "#merging all dataframes\n",
    "full_df = movies_df.merge(ratings_df, left_on='movieId', right_on='movieId')\n",
    "full_df = full_df.merge(links_df, left_on='movieId', right_on='movieId')\n",
    "full_df = full_df.merge(tags_df, left_on='movieId', right_on='movieId')\n",
    "full_df.shape"
   ]
  },
  {
   "cell_type": "code",
   "execution_count": 183,
   "metadata": {},
   "outputs": [
    {
     "data": {
      "text/html": [
       "<div>\n",
       "<style scoped>\n",
       "    .dataframe tbody tr th:only-of-type {\n",
       "        vertical-align: middle;\n",
       "    }\n",
       "\n",
       "    .dataframe tbody tr th {\n",
       "        vertical-align: top;\n",
       "    }\n",
       "\n",
       "    .dataframe thead th {\n",
       "        text-align: right;\n",
       "    }\n",
       "</style>\n",
       "<table border=\"1\" class=\"dataframe\">\n",
       "  <thead>\n",
       "    <tr style=\"text-align: right;\">\n",
       "      <th></th>\n",
       "      <th>movieId</th>\n",
       "      <th>title</th>\n",
       "      <th>genres</th>\n",
       "      <th>userId_x</th>\n",
       "      <th>rating</th>\n",
       "      <th>timestamp</th>\n",
       "      <th>imdbId</th>\n",
       "      <th>tmdbId</th>\n",
       "      <th>userId_y</th>\n",
       "      <th>tag</th>\n",
       "    </tr>\n",
       "  </thead>\n",
       "  <tbody>\n",
       "    <tr>\n",
       "      <th>0</th>\n",
       "      <td>1</td>\n",
       "      <td>Toy Story (1995)</td>\n",
       "      <td>Adventure|Animation|Children|Comedy|Fantasy</td>\n",
       "      <td>1</td>\n",
       "      <td>4.0</td>\n",
       "      <td>964982703</td>\n",
       "      <td>114709</td>\n",
       "      <td>862.0</td>\n",
       "      <td>336</td>\n",
       "      <td>pixar</td>\n",
       "    </tr>\n",
       "    <tr>\n",
       "      <th>1</th>\n",
       "      <td>1</td>\n",
       "      <td>Toy Story (1995)</td>\n",
       "      <td>Adventure|Animation|Children|Comedy|Fantasy</td>\n",
       "      <td>1</td>\n",
       "      <td>4.0</td>\n",
       "      <td>964982703</td>\n",
       "      <td>114709</td>\n",
       "      <td>862.0</td>\n",
       "      <td>474</td>\n",
       "      <td>pixar</td>\n",
       "    </tr>\n",
       "    <tr>\n",
       "      <th>2</th>\n",
       "      <td>1</td>\n",
       "      <td>Toy Story (1995)</td>\n",
       "      <td>Adventure|Animation|Children|Comedy|Fantasy</td>\n",
       "      <td>1</td>\n",
       "      <td>4.0</td>\n",
       "      <td>964982703</td>\n",
       "      <td>114709</td>\n",
       "      <td>862.0</td>\n",
       "      <td>567</td>\n",
       "      <td>fun</td>\n",
       "    </tr>\n",
       "    <tr>\n",
       "      <th>3</th>\n",
       "      <td>1</td>\n",
       "      <td>Toy Story (1995)</td>\n",
       "      <td>Adventure|Animation|Children|Comedy|Fantasy</td>\n",
       "      <td>5</td>\n",
       "      <td>4.0</td>\n",
       "      <td>847434962</td>\n",
       "      <td>114709</td>\n",
       "      <td>862.0</td>\n",
       "      <td>336</td>\n",
       "      <td>pixar</td>\n",
       "    </tr>\n",
       "    <tr>\n",
       "      <th>4</th>\n",
       "      <td>1</td>\n",
       "      <td>Toy Story (1995)</td>\n",
       "      <td>Adventure|Animation|Children|Comedy|Fantasy</td>\n",
       "      <td>5</td>\n",
       "      <td>4.0</td>\n",
       "      <td>847434962</td>\n",
       "      <td>114709</td>\n",
       "      <td>862.0</td>\n",
       "      <td>474</td>\n",
       "      <td>pixar</td>\n",
       "    </tr>\n",
       "    <tr>\n",
       "      <th>...</th>\n",
       "      <td>...</td>\n",
       "      <td>...</td>\n",
       "      <td>...</td>\n",
       "      <td>...</td>\n",
       "      <td>...</td>\n",
       "      <td>...</td>\n",
       "      <td>...</td>\n",
       "      <td>...</td>\n",
       "      <td>...</td>\n",
       "      <td>...</td>\n",
       "    </tr>\n",
       "    <tr>\n",
       "      <th>233208</th>\n",
       "      <td>187595</td>\n",
       "      <td>Solo: A Star Wars Story (2018)</td>\n",
       "      <td>Action|Adventure|Children|Sci-Fi</td>\n",
       "      <td>586</td>\n",
       "      <td>5.0</td>\n",
       "      <td>1529899556</td>\n",
       "      <td>3778644</td>\n",
       "      <td>348350.0</td>\n",
       "      <td>62</td>\n",
       "      <td>star wars</td>\n",
       "    </tr>\n",
       "    <tr>\n",
       "      <th>233209</th>\n",
       "      <td>193565</td>\n",
       "      <td>Gintama: The Movie (2010)</td>\n",
       "      <td>Action|Animation|Comedy|Sci-Fi</td>\n",
       "      <td>184</td>\n",
       "      <td>3.5</td>\n",
       "      <td>1537098554</td>\n",
       "      <td>1636780</td>\n",
       "      <td>71172.0</td>\n",
       "      <td>184</td>\n",
       "      <td>anime</td>\n",
       "    </tr>\n",
       "    <tr>\n",
       "      <th>233210</th>\n",
       "      <td>193565</td>\n",
       "      <td>Gintama: The Movie (2010)</td>\n",
       "      <td>Action|Animation|Comedy|Sci-Fi</td>\n",
       "      <td>184</td>\n",
       "      <td>3.5</td>\n",
       "      <td>1537098554</td>\n",
       "      <td>1636780</td>\n",
       "      <td>71172.0</td>\n",
       "      <td>184</td>\n",
       "      <td>comedy</td>\n",
       "    </tr>\n",
       "    <tr>\n",
       "      <th>233211</th>\n",
       "      <td>193565</td>\n",
       "      <td>Gintama: The Movie (2010)</td>\n",
       "      <td>Action|Animation|Comedy|Sci-Fi</td>\n",
       "      <td>184</td>\n",
       "      <td>3.5</td>\n",
       "      <td>1537098554</td>\n",
       "      <td>1636780</td>\n",
       "      <td>71172.0</td>\n",
       "      <td>184</td>\n",
       "      <td>gintama</td>\n",
       "    </tr>\n",
       "    <tr>\n",
       "      <th>233212</th>\n",
       "      <td>193565</td>\n",
       "      <td>Gintama: The Movie (2010)</td>\n",
       "      <td>Action|Animation|Comedy|Sci-Fi</td>\n",
       "      <td>184</td>\n",
       "      <td>3.5</td>\n",
       "      <td>1537098554</td>\n",
       "      <td>1636780</td>\n",
       "      <td>71172.0</td>\n",
       "      <td>184</td>\n",
       "      <td>remaster</td>\n",
       "    </tr>\n",
       "  </tbody>\n",
       "</table>\n",
       "<p>233213 rows × 10 columns</p>\n",
       "</div>"
      ],
      "text/plain": [
       "        movieId                           title  \\\n",
       "0             1                Toy Story (1995)   \n",
       "1             1                Toy Story (1995)   \n",
       "2             1                Toy Story (1995)   \n",
       "3             1                Toy Story (1995)   \n",
       "4             1                Toy Story (1995)   \n",
       "...         ...                             ...   \n",
       "233208   187595  Solo: A Star Wars Story (2018)   \n",
       "233209   193565       Gintama: The Movie (2010)   \n",
       "233210   193565       Gintama: The Movie (2010)   \n",
       "233211   193565       Gintama: The Movie (2010)   \n",
       "233212   193565       Gintama: The Movie (2010)   \n",
       "\n",
       "                                             genres  userId_x  rating  \\\n",
       "0       Adventure|Animation|Children|Comedy|Fantasy         1     4.0   \n",
       "1       Adventure|Animation|Children|Comedy|Fantasy         1     4.0   \n",
       "2       Adventure|Animation|Children|Comedy|Fantasy         1     4.0   \n",
       "3       Adventure|Animation|Children|Comedy|Fantasy         5     4.0   \n",
       "4       Adventure|Animation|Children|Comedy|Fantasy         5     4.0   \n",
       "...                                             ...       ...     ...   \n",
       "233208             Action|Adventure|Children|Sci-Fi       586     5.0   \n",
       "233209               Action|Animation|Comedy|Sci-Fi       184     3.5   \n",
       "233210               Action|Animation|Comedy|Sci-Fi       184     3.5   \n",
       "233211               Action|Animation|Comedy|Sci-Fi       184     3.5   \n",
       "233212               Action|Animation|Comedy|Sci-Fi       184     3.5   \n",
       "\n",
       "         timestamp   imdbId    tmdbId  userId_y        tag  \n",
       "0        964982703   114709     862.0       336      pixar  \n",
       "1        964982703   114709     862.0       474      pixar  \n",
       "2        964982703   114709     862.0       567        fun  \n",
       "3        847434962   114709     862.0       336      pixar  \n",
       "4        847434962   114709     862.0       474      pixar  \n",
       "...            ...      ...       ...       ...        ...  \n",
       "233208  1529899556  3778644  348350.0        62  star wars  \n",
       "233209  1537098554  1636780   71172.0       184      anime  \n",
       "233210  1537098554  1636780   71172.0       184     comedy  \n",
       "233211  1537098554  1636780   71172.0       184    gintama  \n",
       "233212  1537098554  1636780   71172.0       184   remaster  \n",
       "\n",
       "[233213 rows x 10 columns]"
      ]
     },
     "execution_count": 183,
     "metadata": {},
     "output_type": "execute_result"
    }
   ],
   "source": [
    "#check for merged df\n",
    "full_df"
   ]
  },
  {
   "cell_type": "code",
   "execution_count": 184,
   "metadata": {},
   "outputs": [
    {
     "name": "stdout",
     "output_type": "stream",
     "text": [
      "<class 'pandas.core.frame.DataFrame'>\n",
      "Int64Index: 233213 entries, 0 to 233212\n",
      "Data columns (total 10 columns):\n",
      " #   Column     Non-Null Count   Dtype  \n",
      "---  ------     --------------   -----  \n",
      " 0   movieId    233213 non-null  int64  \n",
      " 1   title      233213 non-null  object \n",
      " 2   genres     233213 non-null  object \n",
      " 3   userId_x   233213 non-null  int64  \n",
      " 4   rating     233213 non-null  float64\n",
      " 5   timestamp  233213 non-null  int64  \n",
      " 6   imdbId     233213 non-null  int64  \n",
      " 7   tmdbId     233213 non-null  float64\n",
      " 8   userId_y   233213 non-null  int64  \n",
      " 9   tag        233213 non-null  object \n",
      "dtypes: float64(2), int64(5), object(3)\n",
      "memory usage: 19.6+ MB\n"
     ]
    }
   ],
   "source": [
    "#information, looking for missing data or wrong dtypes\n",
    "full_df.info()"
   ]
  },
  {
   "cell_type": "markdown",
   "metadata": {},
   "source": [
    "## Create based function"
   ]
  },
  {
   "cell_type": "markdown",
   "metadata": {},
   "source": [
    "### Scored based on votes and ratings"
   ]
  },
  {
   "cell_type": "code",
   "execution_count": 185,
   "metadata": {},
   "outputs": [
    {
     "name": "stdout",
     "output_type": "stream",
     "text": [
      "Numbers of votes to be in final list: 92.0\n"
     ]
    },
    {
     "data": {
      "text/html": [
       "<div>\n",
       "<style scoped>\n",
       "    .dataframe tbody tr th:only-of-type {\n",
       "        vertical-align: middle;\n",
       "    }\n",
       "\n",
       "    .dataframe tbody tr th {\n",
       "        vertical-align: top;\n",
       "    }\n",
       "\n",
       "    .dataframe thead th {\n",
       "        text-align: right;\n",
       "    }\n",
       "</style>\n",
       "<table border=\"1\" class=\"dataframe\">\n",
       "  <thead>\n",
       "    <tr style=\"text-align: right;\">\n",
       "      <th></th>\n",
       "      <th>vote_average</th>\n",
       "      <th>vote_count</th>\n",
       "      <th>score</th>\n",
       "    </tr>\n",
       "    <tr>\n",
       "      <th>title</th>\n",
       "      <th></th>\n",
       "      <th></th>\n",
       "      <th></th>\n",
       "    </tr>\n",
       "  </thead>\n",
       "  <tbody>\n",
       "    <tr>\n",
       "      <th>Shawshank Redemption, The (1994)</th>\n",
       "      <td>4.429022</td>\n",
       "      <td>1268</td>\n",
       "      <td>4.376483</td>\n",
       "    </tr>\n",
       "    <tr>\n",
       "      <th>Fight Club (1999)</th>\n",
       "      <td>4.272936</td>\n",
       "      <td>11772</td>\n",
       "      <td>4.268123</td>\n",
       "    </tr>\n",
       "    <tr>\n",
       "      <th>Star Wars: Episode IV - A New Hope (1977)</th>\n",
       "      <td>4.231076</td>\n",
       "      <td>6526</td>\n",
       "      <td>4.223031</td>\n",
       "    </tr>\n",
       "    <tr>\n",
       "      <th>Dr. Strangelove or: How I Learned to Stop Worrying and Love the Bomb (1964)</th>\n",
       "      <td>4.268041</td>\n",
       "      <td>970</td>\n",
       "      <td>4.214705</td>\n",
       "    </tr>\n",
       "    <tr>\n",
       "      <th>Departed, The (2006)</th>\n",
       "      <td>4.252336</td>\n",
       "      <td>1070</td>\n",
       "      <td>4.204834</td>\n",
       "    </tr>\n",
       "    <tr>\n",
       "      <th>Usual Suspects, The (1995)</th>\n",
       "      <td>4.237745</td>\n",
       "      <td>1224</td>\n",
       "      <td>4.196822</td>\n",
       "    </tr>\n",
       "    <tr>\n",
       "      <th>Pulp Fiction (1994)</th>\n",
       "      <td>4.197068</td>\n",
       "      <td>55567</td>\n",
       "      <td>4.196168</td>\n",
       "    </tr>\n",
       "    <tr>\n",
       "      <th>Schindler's List (1993)</th>\n",
       "      <td>4.225000</td>\n",
       "      <td>1540</td>\n",
       "      <td>4.192719</td>\n",
       "    </tr>\n",
       "    <tr>\n",
       "      <th>Star Wars: Episode V - The Empire Strikes Back (1980)</th>\n",
       "      <td>4.215640</td>\n",
       "      <td>2110</td>\n",
       "      <td>4.192106</td>\n",
       "    </tr>\n",
       "    <tr>\n",
       "      <th>Raiders of the Lost Ark (Indiana Jones and the Raiders of the Lost Ark) (1981)</th>\n",
       "      <td>4.207500</td>\n",
       "      <td>1600</td>\n",
       "      <td>4.177315</td>\n",
       "    </tr>\n",
       "  </tbody>\n",
       "</table>\n",
       "</div>"
      ],
      "text/plain": [
       "                                                    vote_average  vote_count  \\\n",
       "title                                                                          \n",
       "Shawshank Redemption, The (1994)                        4.429022        1268   \n",
       "Fight Club (1999)                                       4.272936       11772   \n",
       "Star Wars: Episode IV - A New Hope (1977)               4.231076        6526   \n",
       "Dr. Strangelove or: How I Learned to Stop Worry...      4.268041         970   \n",
       "Departed, The (2006)                                    4.252336        1070   \n",
       "Usual Suspects, The (1995)                              4.237745        1224   \n",
       "Pulp Fiction (1994)                                     4.197068       55567   \n",
       "Schindler's List (1993)                                 4.225000        1540   \n",
       "Star Wars: Episode V - The Empire Strikes Back ...      4.215640        2110   \n",
       "Raiders of the Lost Ark (Indiana Jones and the ...      4.207500        1600   \n",
       "\n",
       "                                                       score  \n",
       "title                                                         \n",
       "Shawshank Redemption, The (1994)                    4.376483  \n",
       "Fight Club (1999)                                   4.268123  \n",
       "Star Wars: Episode IV - A New Hope (1977)           4.223031  \n",
       "Dr. Strangelove or: How I Learned to Stop Worry...  4.214705  \n",
       "Departed, The (2006)                                4.204834  \n",
       "Usual Suspects, The (1995)                          4.196822  \n",
       "Pulp Fiction (1994)                                 4.196168  \n",
       "Schindler's List (1993)                             4.192719  \n",
       "Star Wars: Episode V - The Empire Strikes Back ...  4.192106  \n",
       "Raiders of the Lost Ark (Indiana Jones and the ...  4.177315  "
      ]
     },
     "execution_count": 185,
     "metadata": {},
     "output_type": "execute_result"
    }
   ],
   "source": [
    "# calculate average with count\n",
    "avg_rating_df = full_df.groupby(['title'])['rating'].agg(['mean', 'count'])\n",
    "avg_rating_df.rename(columns={'mean': 'vote_average', 'count': 'vote_count'}, inplace=True)\n",
    "avg_rating_df.sort_values('vote_average', ascending=False).head(10)\n",
    "\n",
    "# C is the mean vote or rating across the whole dataframe\n",
    "C = avg_rating_df['vote_average'].mean()\n",
    "\n",
    "# m is the minimum votes or ratings to be listed | using a low value because the dataset is small\n",
    "m = avg_rating_df['vote_count'].quantile(0.80)\n",
    "print('Numbers of votes to be in final list:', m)\n",
    "# weight function (ranked based on number of votes AND score)\n",
    "def weighted_rating(x, m=m, C=C):\n",
    "    v = x['vote_count']\n",
    "    R = x['vote_average']\n",
    "    return (v/(v+m) * R) + (m/(m+v) * C)\n",
    "\n",
    "# check the new scores\n",
    "avg_rating_df = avg_rating_df.copy().loc[avg_rating_df['vote_count'] >= m]\n",
    "avg_rating_df['score'] = avg_rating_df.apply(weighted_rating, axis=1)\n",
    "\n",
    "#list of top 10 movies with best \"Scores\"\n",
    "avg_rating_df.sort_values('score', ascending=False).head(10)\n"
   ]
  },
  {
   "cell_type": "code",
   "execution_count": 186,
   "metadata": {},
   "outputs": [
    {
     "data": {
      "text/html": [
       "<div>\n",
       "<style scoped>\n",
       "    .dataframe tbody tr th:only-of-type {\n",
       "        vertical-align: middle;\n",
       "    }\n",
       "\n",
       "    .dataframe tbody tr th {\n",
       "        vertical-align: top;\n",
       "    }\n",
       "\n",
       "    .dataframe thead th {\n",
       "        text-align: right;\n",
       "    }\n",
       "</style>\n",
       "<table border=\"1\" class=\"dataframe\">\n",
       "  <thead>\n",
       "    <tr style=\"text-align: right;\">\n",
       "      <th></th>\n",
       "      <th>vote_average</th>\n",
       "      <th>vote_count</th>\n",
       "    </tr>\n",
       "    <tr>\n",
       "      <th>userId_x</th>\n",
       "      <th></th>\n",
       "      <th></th>\n",
       "    </tr>\n",
       "  </thead>\n",
       "  <tbody>\n",
       "    <tr>\n",
       "      <th>474</th>\n",
       "      <td>3.778004</td>\n",
       "      <td>2455</td>\n",
       "    </tr>\n",
       "    <tr>\n",
       "      <th>414</th>\n",
       "      <td>4.134016</td>\n",
       "      <td>2343</td>\n",
       "    </tr>\n",
       "    <tr>\n",
       "      <th>599</th>\n",
       "      <td>3.480476</td>\n",
       "      <td>2100</td>\n",
       "    </tr>\n",
       "    <tr>\n",
       "      <th>68</th>\n",
       "      <td>3.183696</td>\n",
       "      <td>1791</td>\n",
       "    </tr>\n",
       "    <tr>\n",
       "      <th>610</th>\n",
       "      <td>4.310994</td>\n",
       "      <td>1701</td>\n",
       "    </tr>\n",
       "    <tr>\n",
       "      <th>274</th>\n",
       "      <td>3.811111</td>\n",
       "      <td>1665</td>\n",
       "    </tr>\n",
       "    <tr>\n",
       "      <th>249</th>\n",
       "      <td>4.188685</td>\n",
       "      <td>1635</td>\n",
       "    </tr>\n",
       "    <tr>\n",
       "      <th>448</th>\n",
       "      <td>3.636508</td>\n",
       "      <td>1575</td>\n",
       "    </tr>\n",
       "    <tr>\n",
       "      <th>380</th>\n",
       "      <td>4.250651</td>\n",
       "      <td>1536</td>\n",
       "    </tr>\n",
       "    <tr>\n",
       "      <th>305</th>\n",
       "      <td>4.270548</td>\n",
       "      <td>1460</td>\n",
       "    </tr>\n",
       "  </tbody>\n",
       "</table>\n",
       "</div>"
      ],
      "text/plain": [
       "          vote_average  vote_count\n",
       "userId_x                          \n",
       "474           3.778004        2455\n",
       "414           4.134016        2343\n",
       "599           3.480476        2100\n",
       "68            3.183696        1791\n",
       "610           4.310994        1701\n",
       "274           3.811111        1665\n",
       "249           4.188685        1635\n",
       "448           3.636508        1575\n",
       "380           4.250651        1536\n",
       "305           4.270548        1460"
      ]
     },
     "execution_count": 186,
     "metadata": {},
     "output_type": "execute_result"
    }
   ],
   "source": [
    "#list of top 10 users with most ratings => trending users!\n",
    "avg_rating_user = full_df.groupby(['userId_x'])['rating'].agg(['mean', 'count'])\n",
    "avg_rating_user.rename(columns={'mean': 'vote_average', 'count': 'vote_count'}, inplace=True)\n",
    "avg_rating_user.sort_values('vote_count', ascending=False).head(10)"
   ]
  },
  {
   "cell_type": "markdown",
   "metadata": {},
   "source": [
    "### Create Combinations and occurance of pairwise!"
   ]
  },
  {
   "cell_type": "code",
   "execution_count": 187,
   "metadata": {},
   "outputs": [],
   "source": [
    "from itertools import permutations\n",
    "# create a function that makes combinations of the movie that a user (x) reviewed\n",
    "def create_combinations(x):\n",
    "    combinations = pd.DataFrame(list(permutations(x.values, 2)), columns=['item_a', 'item_b'])\n",
    "    return combinations\n"
   ]
  },
  {
   "cell_type": "code",
   "execution_count": 188,
   "metadata": {},
   "outputs": [
    {
     "name": "stdout",
     "output_type": "stream",
     "text": [
      "610\n"
     ]
    },
    {
     "data": {
      "text/plain": [
       "1554"
      ]
     },
     "execution_count": 188,
     "metadata": {},
     "output_type": "execute_result"
    }
   ],
   "source": [
    "#number of users\n",
    "print(len(full_df['userId_x'].unique()))\n",
    "\n",
    "#number of movies\n",
    "len(full_df['title'].unique())"
   ]
  },
  {
   "cell_type": "code",
   "execution_count": 189,
   "metadata": {},
   "outputs": [
    {
     "data": {
      "text/html": [
       "<div>\n",
       "<style scoped>\n",
       "    .dataframe tbody tr th:only-of-type {\n",
       "        vertical-align: middle;\n",
       "    }\n",
       "\n",
       "    .dataframe tbody tr th {\n",
       "        vertical-align: top;\n",
       "    }\n",
       "\n",
       "    .dataframe thead th {\n",
       "        text-align: right;\n",
       "    }\n",
       "</style>\n",
       "<table border=\"1\" class=\"dataframe\">\n",
       "  <thead>\n",
       "    <tr style=\"text-align: right;\">\n",
       "      <th></th>\n",
       "      <th>userId_x</th>\n",
       "      <th>counts</th>\n",
       "    </tr>\n",
       "  </thead>\n",
       "  <tbody>\n",
       "    <tr>\n",
       "      <th>473</th>\n",
       "      <td>474</td>\n",
       "      <td>2455</td>\n",
       "    </tr>\n",
       "    <tr>\n",
       "      <th>413</th>\n",
       "      <td>414</td>\n",
       "      <td>2343</td>\n",
       "    </tr>\n",
       "    <tr>\n",
       "      <th>598</th>\n",
       "      <td>599</td>\n",
       "      <td>2100</td>\n",
       "    </tr>\n",
       "    <tr>\n",
       "      <th>67</th>\n",
       "      <td>68</td>\n",
       "      <td>1791</td>\n",
       "    </tr>\n",
       "    <tr>\n",
       "      <th>609</th>\n",
       "      <td>610</td>\n",
       "      <td>1701</td>\n",
       "    </tr>\n",
       "    <tr>\n",
       "      <th>...</th>\n",
       "      <td>...</td>\n",
       "      <td>...</td>\n",
       "    </tr>\n",
       "    <tr>\n",
       "      <th>454</th>\n",
       "      <td>455</td>\n",
       "      <td>105</td>\n",
       "    </tr>\n",
       "    <tr>\n",
       "      <th>270</th>\n",
       "      <td>271</td>\n",
       "      <td>104</td>\n",
       "    </tr>\n",
       "    <tr>\n",
       "      <th>328</th>\n",
       "      <td>329</td>\n",
       "      <td>103</td>\n",
       "    </tr>\n",
       "    <tr>\n",
       "      <th>184</th>\n",
       "      <td>185</td>\n",
       "      <td>102</td>\n",
       "    </tr>\n",
       "    <tr>\n",
       "      <th>163</th>\n",
       "      <td>164</td>\n",
       "      <td>102</td>\n",
       "    </tr>\n",
       "  </tbody>\n",
       "</table>\n",
       "<p>464 rows × 2 columns</p>\n",
       "</div>"
      ],
      "text/plain": [
       "     userId_x  counts\n",
       "473       474    2455\n",
       "413       414    2343\n",
       "598       599    2100\n",
       "67         68    1791\n",
       "609       610    1701\n",
       "..        ...     ...\n",
       "454       455     105\n",
       "270       271     104\n",
       "328       329     103\n",
       "184       185     102\n",
       "163       164     102\n",
       "\n",
       "[464 rows x 2 columns]"
      ]
     },
     "execution_count": 189,
     "metadata": {},
     "output_type": "execute_result"
    }
   ],
   "source": [
    "#avoid users with only 60 review to measure impact \n",
    "avg_user = full_df.groupby(['userId_x']).size().reset_index(name='counts')\n",
    "avg_user = avg_user[avg_user['counts'] > 100]\n",
    "avg_user.sort_values(by='counts', ascending=False)"
   ]
  },
  {
   "cell_type": "code",
   "execution_count": null,
   "metadata": {},
   "outputs": [],
   "source": [
    "# use the create_combinations function\n",
    "movie_combinations = full_df.groupby('userId_x')['title'].apply(create_combinations)\n",
    "movie_combinations = movie_combinations.reset_index(drop=True)\n",
    "combi_count = movie_combinations.groupby(['item_a', 'item_b']).size()\n",
    "combi_count = combi_count.to_frame(name='size').reset_index()\n",
    "\n",
    "#remove duplicates (same movie iteam_a and b)\n",
    "combi_count['equal'] = combi_count['item_a'] == combi_count[\"item_b\"]\n",
    "combi_count = combi_count[combi_count['equal'] == False]\n",
    "combi_count.drop(columns='equal', inplace=True) #remove this ugly name!\n",
    "\n",
    "#sort by size!\n",
    "combi_count.sort_values('size', ascending=False)"
   ]
  },
  {
   "cell_type": "code",
   "execution_count": null,
   "metadata": {},
   "outputs": [],
   "source": [
    "#Similarities based on a text search for example and a default parameter\n",
    "search_box = \"Star Wars\"\n",
    "minium_size = 30 #users who watched item_a, watched item_b\n",
    "\n",
    "test_names = combi_count[( combi_count['item_a'].str.contains(search_box) ) & (combi_count['size'] > minium_size)]\n",
    "test_names.sort_values(by='size', ascending=False)"
   ]
  },
  {
   "cell_type": "code",
   "execution_count": null,
   "metadata": {},
   "outputs": [],
   "source": [
    "#test some recommendation based of ocurrance\n",
    "\n",
    "#variable defined by user \n",
    "#film_name = input('Type the name of your movie:')\n",
    "\n",
    "#to run 1st time without pausing\n",
    "film_name = \"Star Wars: Episode VI - Return of the Jedi (1983)\"\n",
    "common_movies = combi_count[combi_count['item_a'] == film_name].sort_values(\"size\", ascending=False).head(5)\n",
    "#common_movies = common_movies['item_b']\n",
    "#common_movies = common_movies.rename(columns={\"item_b\": \"Movie_Names\"})\n",
    "common_movies = common_movies.reset_index(drop=True)\n",
    "\n",
    "print(\"These are the 5 movies that users who watched {}, rated:\".format(film_name))\n",
    "#merge rating informations (Dataset create before and using list of name as a input)\n",
    "\n",
    "#remember scores = number of votes and rates!!\n",
    "scores = avg_rating_df[\"score\"].loc[common_movies['item_b']]\n",
    "common_movies['score'] = scores.values\n",
    "common_movies.drop(columns='equal', inplace=True)\n",
    "common_movies.sort_values(\"score\", ascending=False).head(5)\n"
   ]
  },
  {
   "cell_type": "markdown",
   "metadata": {},
   "source": [
    "### Similarities between Genres or Users"
   ]
  },
  {
   "cell_type": "code",
   "execution_count": null,
   "metadata": {},
   "outputs": [],
   "source": [
    "# remove duplicates\n",
    "full_df2 = full_df.copy().drop_duplicates(subset=['title'])\n",
    "\n",
    "# cast to list\n",
    "full_df2['genres'] = full_df2.genres.str.split('|').tolist()\n",
    "#full_df2['genres'].head(10)\n",
    "\n",
    "# explode into rows\n",
    "full_df2 = full_df2.explode('genres')\n",
    "#full_df2.head(5)\n",
    "\n",
    "# let's make a crosstab\n",
    "movies_category = pd.crosstab(full_df2['title'], full_df2['genres'])\n",
    "movies_category\n"
   ]
  },
  {
   "cell_type": "code",
   "execution_count": null,
   "metadata": {},
   "outputs": [],
   "source": [
    "#user similarities vs genres\n",
    "\n",
    "# remove duplicates\n",
    "full_df3 = full_df.copy().drop_duplicates(subset=['title'])\n",
    "\n",
    "full_df3['genres'] = full_df3['genres'].str.split('|').tolist()\n",
    "\n",
    "# explode into rows\n",
    "full_df3 = full_df3.explode('genres')\n",
    "#full_df3.head(5)\n",
    "\n",
    "# let's make a crosstab\n",
    "users_category = pd.crosstab(full_df3['userId_x'], full_df3['genres'])\n",
    "users_category\n"
   ]
  },
  {
   "cell_type": "code",
   "execution_count": null,
   "metadata": {},
   "outputs": [],
   "source": [
    "#Or we can have users by movies similarities\n",
    "\n",
    "# remove duplicates\n",
    "full_df4 = full_df.copy()\n",
    "\n",
    "# let's make a crosstab\n",
    "users_movies = pd.crosstab(full_df4['userId_x'], full_df3['title'])\n",
    "users_movies\n"
   ]
  },
  {
   "cell_type": "markdown",
   "metadata": {},
   "source": [
    "### Distances Similarities (Jaccard)"
   ]
  },
  {
   "cell_type": "code",
   "execution_count": null,
   "metadata": {},
   "outputs": [],
   "source": [
    "# import necessary stuff\n",
    "from sklearn.metrics import jaccard_score\n",
    "from scipy.spatial.distance import pdist, squareform\n",
    "\n",
    "#movies distances based on genres\n",
    "# calculate the distances\n",
    "jaccard_distances = pdist(movies_category.values, metric='jaccard')\n",
    "square_jaccard_distances = squareform(jaccard_distances)\n",
    "\n",
    "#square_jaccard_distances\n",
    "jaccard_similarity_array = 1 - square_jaccard_distances\n",
    "#jaccard_similarity_array\n",
    "\n",
    "distance_df_movies_category = pd.DataFrame(jaccard_similarity_array, index=movies_category.index, columns=movies_category.index)\n",
    "distance_df_movies_category\n"
   ]
  },
  {
   "cell_type": "code",
   "execution_count": null,
   "metadata": {},
   "outputs": [],
   "source": [
    "#list top 10 similar movies:\n",
    "movie_name = \"Zombieland (2009)\"\n",
    "\n",
    "distance_df_movies_category[movie_name].sort_values(ascending=False).head(11) #because the first element is the movie"
   ]
  },
  {
   "cell_type": "code",
   "execution_count": null,
   "metadata": {},
   "outputs": [],
   "source": [
    "# calculate the distances | change a bit to be easier to change the cross_tab input\n",
    "\n",
    "#users distances based on genres/categories\n",
    "cross_tab = users_category\n",
    "jaccard_distances = pdist(cross_tab.values, metric='jaccard')\n",
    "square_jaccard_distances = squareform(jaccard_distances)\n",
    "\n",
    "#square_jaccard_distances\n",
    "jaccard_similarity_array = 1 - square_jaccard_distances\n",
    "#jaccard_similarity_array\n",
    "\n",
    "distance_df = pd.DataFrame(jaccard_similarity_array, index=cross_tab.index, columns=cross_tab.index)\n",
    "distance_df"
   ]
  },
  {
   "cell_type": "code",
   "execution_count": null,
   "metadata": {},
   "outputs": [],
   "source": [
    "#list top 10 similar users: \n",
    "user_number = 474 #top 1 user with most ratings\n",
    "distance_df[user_number].sort_values(ascending=False).head(11) #because the first element is the user"
   ]
  },
  {
   "cell_type": "code",
   "execution_count": null,
   "metadata": {},
   "outputs": [],
   "source": [
    "# calculate the distances | change a bit to be easier to change the cross_tab input\n",
    "\n",
    "#users distances based on Movies\n",
    "cross_tab = users_movies\n",
    "jaccard_distances = pdist(cross_tab.values, metric='jaccard')\n",
    "square_jaccard_distances = squareform(jaccard_distances)\n",
    "\n",
    "#square_jaccard_distances\n",
    "jaccard_similarity_array = 1 - square_jaccard_distances\n",
    "#jaccard_similarity_array\n",
    "\n",
    "distance_df = pd.DataFrame(jaccard_similarity_array, index=cross_tab.index, columns=cross_tab.index)\n",
    "distance_df"
   ]
  },
  {
   "cell_type": "code",
   "execution_count": null,
   "metadata": {},
   "outputs": [],
   "source": [
    "users_movies.loc[users_movies.index == 474]"
   ]
  },
  {
   "cell_type": "code",
   "execution_count": null,
   "metadata": {},
   "outputs": [],
   "source": [
    "#list top 10 similar users: As we can see similarities with users based on movies has a too sparce matrix\n",
    "user_number = 474 #top 1 user with most ratings\n",
    "distance_df[user_number].sort_values(ascending=False).head(11) #because the first element is the user\n"
   ]
  },
  {
   "cell_type": "markdown",
   "metadata": {},
   "source": [
    "### Cosine Similarities"
   ]
  },
  {
   "cell_type": "code",
   "execution_count": null,
   "metadata": {},
   "outputs": [],
   "source": [
    "full_df.head()"
   ]
  },
  {
   "cell_type": "code",
   "execution_count": null,
   "metadata": {},
   "outputs": [],
   "source": [
    "#select a subset of fields only\n",
    "smaller_selection = full_df.groupby(['title', 'tag', 'genres']).size().reset_index(name='counts')\n",
    "#smaller_selection = smaller_selection[smaller_selection['counts'] > 2]\n",
    "smaller_selection = smaller_selection.reset_index().drop_duplicates()\n",
    "smaller_selection.shape\n",
    "smaller_selection\n"
   ]
  },
  {
   "cell_type": "code",
   "execution_count": null,
   "metadata": {},
   "outputs": [],
   "source": [
    "#example of how many tags a movie have\n",
    "smaller_selection[smaller_selection['title']==\"Toy Story (1995)\"].groupby('tag')['title'].count()"
   ]
  },
  {
   "cell_type": "code",
   "execution_count": null,
   "metadata": {},
   "outputs": [],
   "source": [
    "#need to group tags in one row\n",
    "smaller_selection_tag = smaller_selection.copy()\n",
    "# concatenate the string \n",
    "smaller_selection_tag['tag'] = smaller_selection_tag.groupby(['title'])['tag'].transform(lambda x : ' '.join(x)) \n",
    "  \n",
    "# drop duplicate data\n",
    "\n",
    "#smaller_selection_tag.drop(columns=['index', 'counts'], inplace=True)\n",
    "smaller_selection_tag = smaller_selection_tag.drop_duplicates(subset=['title'])  \n",
    "smaller_selection_tag.reset_index(inplace=True)\n",
    "\n",
    "# show the dataframe \n",
    "smaller_selection_tag"
   ]
  },
  {
   "cell_type": "code",
   "execution_count": null,
   "metadata": {},
   "outputs": [],
   "source": [
    "# import TfidfVectorize\n",
    "from sklearn.feature_extraction.text import TfidfVectorizer\n",
    "\n",
    "tfidf = TfidfVectorizer(stop_words='english')\n",
    "\n",
    "smaller_selection_tag['tag'] = smaller_selection_tag['tag'].fillna('')\n",
    "\n",
    "tfidf_matrix = tfidf.fit_transform(smaller_selection_tag['tag'])\n",
    "\n",
    "tfidf_matrix.shape\n"
   ]
  },
  {
   "cell_type": "code",
   "execution_count": null,
   "metadata": {},
   "outputs": [],
   "source": [
    "from sklearn.metrics.pairwise import linear_kernel\n",
    "\n",
    "cosine_sim = linear_kernel(tfidf_matrix, tfidf_matrix)\n",
    "cosine_sim"
   ]
  },
  {
   "cell_type": "code",
   "execution_count": null,
   "metadata": {},
   "outputs": [],
   "source": [
    "indices = pd.Series(smaller_selection_tag.index, index=smaller_selection_tag['title']).drop_duplicates()\n",
    "indices"
   ]
  },
  {
   "cell_type": "code",
   "execution_count": null,
   "metadata": {},
   "outputs": [],
   "source": [
    "indices['Zoolander (2001)']\n"
   ]
  },
  {
   "cell_type": "code",
   "execution_count": null,
   "metadata": {},
   "outputs": [],
   "source": [
    "def get_recommendations(title, cosine_sim=cosine_sim):\n",
    "    # Get the index of the movie that matches the title\n",
    "    idx = indices[title]\n",
    "\n",
    "    # Get the pairwsie similarity scores of all movies with that movie\n",
    "    sim_scores = list(enumerate(cosine_sim[idx]))\n",
    "\n",
    "    # Sort the movies based on the similarity scores\n",
    "    sim_scores = sorted(sim_scores, key=lambda x: x[1], reverse=True)\n",
    "\n",
    "    # Get the scores of the 10 most similar movies\n",
    "    sim_scores = sim_scores[1:11]\n",
    "\n",
    "    # Get the movie indices\n",
    "    movie_indices = [i[0] for i in sim_scores]\n",
    "\n",
    "    # Return the top 10 most similar movies\n",
    "    return smaller_selection_tag.iloc[movie_indices]"
   ]
  },
  {
   "cell_type": "code",
   "execution_count": null,
   "metadata": {},
   "outputs": [],
   "source": [
    "#variable defined by user \n",
    "#film_name = input('Type the name of your movie:')\n",
    "film_name = \"101 Dalmatians (1996)\"\n",
    "\n",
    "print('Your movie tags: \\n{}'.format(smaller_selection_tag[\"tag\"].iloc[indices[film_name]]))\n",
    "print('Your movie genre: \\n{}'.format(smaller_selection_tag[\"genres\"].iloc[indices[film_name]]))\n",
    "get_recommendations(film_name)"
   ]
  },
  {
   "cell_type": "code",
   "execution_count": null,
   "metadata": {},
   "outputs": [],
   "source": [
    "#after see the results, only tags dont see to work => A comedy movie and a Horror movie dosent seems right match... So lets try to mix with genre as well!\n"
   ]
  },
  {
   "cell_type": "markdown",
   "metadata": {},
   "source": [
    "# Ideias\n",
    "\n",
    "1. Which movies are most watched(rated) all the time? - OK done first part\n",
    "2. Who is the user that watched the most number of movies? - - OK done first part\n",
    "3. Graph of Genres (barplot) with avg ratings, and top movie by each genre!\n",
    "4. Genres that a user NEVER watch but is well rated -> include diversity!\n",
    "5. Clusterize all users: detect similar preferences! It is possible to aquire or simulate \"random\" demographics: age, sex,... ? - OK done first part Cluster users by similaritity in genre and movies rated"
   ]
  },
  {
   "cell_type": "markdown",
   "metadata": {},
   "source": [
    "# Basic Functions"
   ]
  },
  {
   "cell_type": "code",
   "execution_count": null,
   "metadata": {},
   "outputs": [],
   "source": [
    "def expand_colum(df, column_name, field='title'):\n",
    "    \"\"\" transform a colum with stacked values in a crosstab colum \"\"\"\n",
    "    # remove duplicates\n",
    "    df2 = df.drop_duplicates(subset=['title'])\n",
    "\n",
    "    # get rid of those pesky []'s and '\n",
    "    #full_df2['genres2'] = full_df2.genres.apply(lambda x: x.replace('|', ''))\n",
    "    #full_df2['genres2'] = full_df2.genres.apply(lambda x: x.replace(']', ''))\n",
    "    #full_df2['genres2'] = full_df2.genres.apply(lambda x: x.replace(\"'\", \"\"))\n",
    "\n",
    "    # cast to list\n",
    "    if df2[column_name].dtype == \"int64\":\n",
    "        df2[column_name] = df2[column_name].tolist()\n",
    "    else:\n",
    "        df2[column_name] = df2[column_name].str.split('|').tolist()\n",
    "    # explode into rows\n",
    "    df = df2.explode(column_name)\n",
    "    \n",
    "    # let's make a crosstab\n",
    "    df_column = pd.crosstab(df[field], df[column_name])\n",
    "    df_column\n",
    "    \n",
    "    #return one df with columns by row (util to average statistics for example)\n",
    "    #return a crosstab table\n",
    "    return df, df_column\n",
    "\n",
    "def calc_distance(cross_df):\n",
    "    \"\"\" receive a crosstab df and return a distance dataframe\"\"\"\n",
    "    # import necessary stuff\n",
    "    from sklearn.metrics import jaccard_score\n",
    "    from scipy.spatial.distance import pdist, squareform\n",
    "\n",
    "    # calculate the distances\n",
    "    jaccard_distances = pdist(cross_df.values, metric='jaccard')\n",
    "    square_jaccard_distances = squareform(jaccard_distances)\n",
    "\n",
    "    #square_jaccard_distances\n",
    "    jaccard_similarity_array = 1 - square_jaccard_distances\n",
    "    #jaccard_similarity_array\n",
    "    distance_df = pd.DataFrame(jaccard_similarity_array, index=cross_df.index, columns=cross_df.index)\n",
    "    return distance_df\n",
    "\n",
    "def get_similarities(distance_df, col_name, numbers=5):\n",
    "    \"\"\"receive a distance df and film_name/user_number, and return a list of \"numbers\" films\"\"\"\n",
    "    #variable defined by user \n",
    "    #film_name = input('Type the name of your movie:')\n",
    "    print('Top {} Similar with {}'.format(numbers,col_name))\n",
    "    print(distance_df[col_name].sort_values(ascending=False).head(numbers))\n",
    "    \n",
    "def create_combinations(x):\n",
    "    \"\"\"to be used inside another functions as apply method\"\"\"\n",
    "    from itertools import permutations\n",
    "\n",
    "    # create a function that makes combinations of the movie that a user (x) reviewed\n",
    "    \n",
    "    combinations = pd.DataFrame(list(permutations(x.values, 2)), columns=['item_a', 'item_b'])\n",
    "    return combinations\n",
    "\n",
    "def create_combination_df(df, col_filter='userId_x', col_group='title'):\n",
    "    # use the create_combinations function\n",
    "    movie_combinations = df.groupby(col_filter)[col_group].apply(create_combinations)\n",
    "\n",
    "    movie_combinations = movie_combinations.reset_index(drop=True)\n",
    "    combi_count = movie_combinations.groupby(['item_a', 'item_b']).size()\n",
    "    combi_count = combi_count.to_frame(name='size').reset_index()\n",
    "\n",
    "    #remove duplicates (same movie iteam_a and b)\n",
    "    combi_count['equal'] = combi_count['item_a'] == combi_count[\"item_b\"]\n",
    "    combi_count = combi_count[combi_count['equal'] == False]\n",
    "\n",
    "    combi_count.sort_values('size', ascending=False)\n",
    "    return combi_count\n",
    "\n",
    "def cosine_similatirity(df, col_filter='tag'):\n",
    "    \n",
    "    from sklearn.feature_extraction.text import TfidfVectorizer\n",
    "    from sklearn.metrics.pairwise import linear_kernel\n",
    "    #create object and define stop words language\n",
    "    tfidf = TfidfVectorizer(stop_words='english')\n",
    "\n",
    "    #fill na if exists\n",
    "    df[col_filter] = df[col_filter].fillna('')\n",
    "\n",
    "    #transform based on object tfidf\n",
    "    tfidf_matrix = tfidf.fit_transform(df[col_filter])\n",
    "    \n",
    "    #apply functions\n",
    "    cosine_sim = linear_kernel(tfidf_matrix, tfidf_matrix)\n",
    "    indices = pd.Series(df.index, index=df['title']).drop_duplicates()\n",
    "    \n",
    "    #return indices and df of similarities\n",
    "    return indices, cosine_sim\n",
    "\n",
    "\n",
    "### NEED FIX #####\n",
    "def get_recommendations_cos(title, df, indices, cosine_sim):\n",
    "    # Get the index of the movie that matches the title\n",
    "    idx = indices[title]\n",
    "\n",
    "    # Get the pairwsie similarity scores of all movies with that movie\n",
    "    sim_scores = list(enumerate(cosine_sim[idx]))\n",
    "\n",
    "    # Sort the movies based on the similarity scores\n",
    "    sim_scores = sorted(sim_scores, key=lambda x: x[1], reverse=True)\n",
    "\n",
    "    # Get the scores of the 10 most similar movies\n",
    "    sim_scores = sim_scores[1:11]\n",
    "\n",
    "    # Get the movie indices\n",
    "    movie_indices = [i[0] for i in sim_scores]\n",
    "    print('Your movie tags: \\n{}'.format(df[\"tag\"].iloc[df[title]]))\n",
    "    print('Your movie genre: \\n{}'.format(df[\"genres\"].iloc[df[title]]))\n",
    "    # Return the top 10 most similar movies\n",
    "    return df.iloc[movie_indices]\n",
    "\n",
    "def weight_votes(df, group_col, agg_col1='vote_average', agg_col2='vote_count', number=10):\n",
    "    # calculate average with count\n",
    "    #avg_rating_df = df.groupby([group_col])[agg_col].agg(['mean', 'count'])\n",
    "       # avg_rating_df.rename(columns={'mean': 'vote_average', 'count': 'vote_count'}, inplace=True)\n",
    "    #avg_rating_df.sort_values('vote_average', ascending=False).head(10)\n",
    "\n",
    "    # C is the mean vote or rating across the whole dataframe\n",
    "    C = df['vote_average'].mean()\n",
    "\n",
    "    # m is the minimum votes or ratings to be listed | using a low value because the dataset is small\n",
    "    m = df['vote_count'].quantile(0.10)\n",
    "\n",
    "    # weight function (ranked based on number of votes AND score)\n",
    "    def weighted_rating(x, m=m, C=C):\n",
    "        v = x['vote_count']\n",
    "        R = x['vote_average']\n",
    "        return (v/(v+m) * R) + (m/(m+v) * C)\n",
    "\n",
    "    # check the new scores\n",
    "    avg_rating_df = df.copy().loc[df['vote_count'] >= m]\n",
    "    avg_rating_df['score'] = avg_rating_df.apply(weighted_rating, axis=1)\n",
    "    avg_rating_df = avg_rating_df.sort_values('score', ascending=False).head(number)\n",
    "    return avg_rating_df\n",
    "\n",
    "def concat_field(df, col_name):\n",
    "    \"\"\" receive a df and a column name, concat multiple rows on that column, for example all rows with different tags\"\"\"\n",
    "    #need to group columns in one row #example tag\n",
    "   \n",
    "    # concatenate the string \n",
    "    df[col_name] = df.groupby(['title'])[col_name].transform(lambda x : ' '.join(x)) \n",
    "\n",
    "    # drop duplicate data | not using because i prefer df with all rows, so u can made the statics better\n",
    "\n",
    "    #smaller_selection_tag.drop(columns=['index', 'counts'], inplace=True)\n",
    "    #smaller_selection_tag = smaller_selection_tag.drop_duplicates(subset=['tag'])  \n",
    "    #smaller_selection_tag.reset_index(inplace=True)\n",
    "\n",
    "    # show the dataframe \n",
    "    return smaller_selection_tag\n",
    "\n",
    "def create_date_of_ratings(df, col_name):\n",
    "    pass"
   ]
  },
  {
   "cell_type": "markdown",
   "metadata": {},
   "source": [
    "# Rating Movies and how update the database"
   ]
  },
  {
   "cell_type": "code",
   "execution_count": null,
   "metadata": {},
   "outputs": [],
   "source": [
    "#create function to rate a movie and update database\n",
    "def rating_movie(df, title, rating):\n",
    "    pass\n",
    "\n",
    "#update all tables metrics: like distances tables, main database, scores...\n",
    "#it should run on backgroung to avoid user experience being compromised\n",
    "def update_tables():\n",
    "    pass\n"
   ]
  },
  {
   "cell_type": "code",
   "execution_count": null,
   "metadata": {},
   "outputs": [],
   "source": [
    "x1, x2 = expand_colum(full_df, \"genres\")\n",
    "x2"
   ]
  },
  {
   "cell_type": "markdown",
   "metadata": {},
   "source": [
    "# Content Based Recommender\n",
    "\n",
    "### Recommends content similar to the content the user has consumed in the past"
   ]
  },
  {
   "cell_type": "code",
   "execution_count": null,
   "metadata": {},
   "outputs": [],
   "source": [
    "#get top 5 movies by genre | we can use it later to define other parameters\n",
    "\n",
    "#explode genres column\n",
    "full_df_genres, full_df_cross = expand_colum(full_df, \"genres\")\n",
    "\n",
    "#look for user top genre\n",
    "\n",
    "full_df_genres"
   ]
  },
  {
   "cell_type": "code",
   "execution_count": null,
   "metadata": {},
   "outputs": [],
   "source": [
    "#Ratings by user per genres\n",
    "users_genre = full_df_genres.groupby(by=[\"userId_x\",\"genres\"])[\"rating\"].agg(['mean', \"count\"]).reset_index()\n",
    "users_genre.rename(columns={'mean': 'vote_average', 'count': 'vote_count'}, inplace=True)\n",
    "users_genre"
   ]
  },
  {
   "cell_type": "code",
   "execution_count": null,
   "metadata": {},
   "outputs": [],
   "source": [
    "#get top 5 movies by genre | we can use it later to define other parameters\n",
    "#first look for the highest rank genre for one user\n",
    "user_number = 10\n",
    "user_genre = users_genre[ (users_genre['userId_x'] == user_number) ] \n",
    "\n",
    "#sort_values by score (composite of rating and number of votes)\n",
    "user_genre = weight_votes(user_genre, \"genres\")\n",
    "print(user_genre)\n",
    "\n",
    "user_genre.sort_values(by=(\"score\"), ascending=False, inplace=True)\n",
    "\n",
    "print(\"Your favorite genre is: {}\". format(user_genre[\"genres\"].iloc[0]))\n",
    "print(\"Score of this genre: {:.2f}\". format(user_genre[\"score\"].iloc[0]))\n",
    "print(\"Number of rated movies of this genre: {}\". format(user_genre[\"vote_count\"].iloc[0]))\n",
    "#assign to a variable\n",
    "genre = user_genre[\"genres\"].iloc[0]"
   ]
  },
  {
   "cell_type": "code",
   "execution_count": null,
   "metadata": {},
   "outputs": [],
   "source": [
    "#filter in data_set movies that he already watched\n",
    "filter_user = full_df_genres[ (full_df_genres['genres'] == genre) & (full_df_genres['userId_x'] == user_number) ] \n",
    "filter_user"
   ]
  },
  {
   "cell_type": "code",
   "execution_count": null,
   "metadata": {},
   "outputs": [],
   "source": [
    "#list of all movies from selected genre\n",
    "index = full_df_genres[[\"title\", \"genres\"]][full_df_genres['genres'] == genre]\n",
    "full_df_genres[[\"title\", \"genres\"]][full_df_genres['genres'] == genre]"
   ]
  },
  {
   "cell_type": "code",
   "execution_count": null,
   "metadata": {},
   "outputs": [],
   "source": [
    "#list of all movies from selected genre that user DONT watch yet\n",
    "filter_user_not = full_df_genres[ (full_df_genres['genres'] == genre) & (full_df_genres['userId_x'] != user_number) ] \n",
    "filter_user_not = filter_user_not.groupby(by=[\"title\",\"genres\"])[\"rating\"].agg(['mean', \"count\"]).reset_index()\n",
    "filter_user_not.rename(columns={'mean': 'vote_average', 'count': 'vote_count'}, inplace=True)\n",
    "\n",
    "#as dataset is small there is basic one vote by movie\n",
    "filter_user_not = weight_votes(filter_user_not, \"genres\", number=1000)\n",
    "filter_user_not.sort_values(by=\"score\", ascending=False)"
   ]
  },
  {
   "cell_type": "code",
   "execution_count": null,
   "metadata": {},
   "outputs": [],
   "source": [
    "#Crate a ratings by genre\n",
    "ratings_genre = full_df_genres.groupby(by=[\"genres\"])[\"rating\"].agg(['mean', \"count\"]).reset_index()\n",
    "ratings_genre.rename(columns={'mean': 'vote_average', 'count': 'vote_count'}, inplace=True)\n",
    "ratings_genre = weight_votes(ratings_genre, \"genres\", number=100)\n",
    "ratings_genre.sort_values(by=\"score\", ascending=False)"
   ]
  },
  {
   "cell_type": "code",
   "execution_count": null,
   "metadata": {},
   "outputs": [],
   "source": []
  },
  {
   "cell_type": "code",
   "execution_count": null,
   "metadata": {},
   "outputs": [],
   "source": [
    "#Recommend the 10 movies similar to the best movie for this user"
   ]
  },
  {
   "cell_type": "code",
   "execution_count": null,
   "metadata": {},
   "outputs": [],
   "source": [
    "#Select 3 most relevant genres based on user rating (Score = weighted between avg and number of votes)"
   ]
  },
  {
   "cell_type": "code",
   "execution_count": null,
   "metadata": {},
   "outputs": [],
   "source": [
    "#Select 3 most relevant tags based on user rating (Score = weighted between avg and number of votes)"
   ]
  },
  {
   "cell_type": "code",
   "execution_count": null,
   "metadata": {},
   "outputs": [],
   "source": [
    "#recommend 5 movies based on this criterias"
   ]
  },
  {
   "cell_type": "code",
   "execution_count": null,
   "metadata": {},
   "outputs": [],
   "source": [
    "#recommend 5 movies based on this criterias"
   ]
  },
  {
   "cell_type": "code",
   "execution_count": null,
   "metadata": {},
   "outputs": [],
   "source": [
    "#Recommend the 10 movies based to the last movie for this user"
   ]
  },
  {
   "cell_type": "markdown",
   "metadata": {},
   "source": [
    "# Collaborative Filtering\n",
    "\n",
    "### Users who are similar to the target user have consumed"
   ]
  },
  {
   "cell_type": "code",
   "execution_count": null,
   "metadata": {},
   "outputs": [],
   "source": [
    "#explode users column to build user similarities\n",
    "full_df_users, full_df_cross = expand_colum(full_df, \"userId_x\")\n",
    "full_df_cross"
   ]
  },
  {
   "cell_type": "code",
   "execution_count": null,
   "metadata": {},
   "outputs": [],
   "source": [
    "\n",
    "user = 10\n",
    "#select a film to test\n",
    "\n",
    "#create oone crosstab by genres and other by users similatires\n",
    "users = \"userId_x\"\n",
    "genres = \"genres\"\n",
    "x1, df_cross_users = expand_colum(full_df, users) #x1 -> only if we have colum with sepators like \"|\"\n",
    "genre_rows, df_cross_genres = expand_colum(full_df, genres)\n",
    "\n",
    "#create distances matrices\n",
    "df_dist_users = calc_distance(df_cross_users )\n",
    "df_dist_genres = calc_distance(df_cross_genres)\n",
    "df_dist_users\n",
    "\n"
   ]
  },
  {
   "cell_type": "code",
   "execution_count": null,
   "metadata": {},
   "outputs": [],
   "source": [
    "#get similatires\n",
    "\n",
    "#top 5 similar users:\n"
   ]
  },
  {
   "cell_type": "code",
   "execution_count": null,
   "metadata": {},
   "outputs": [],
   "source": [
    "#top 5 movies based on users similarities\n",
    "print(\"similatires based user\")\n",
    "users_similarities = get_similarities(df_dist_users, film_name, numbers=5)\n",
    "print(\"\\n\")\n",
    "print(\"similatires based on  genre\")\n",
    "genres_similarities = get_similarities(df_dist_genres, film_name, numbers=5)"
   ]
  },
  {
   "cell_type": "markdown",
   "metadata": {},
   "source": [
    "# Colababorative Filtering v2"
   ]
  },
  {
   "cell_type": "markdown",
   "metadata": {},
   "source": [
    "How do you determine which users or items are similar to one another?\n",
    "\n",
    "Given that you know which users are similar, how do you determine the rating that a user would give to an item based on the ratings of similar users?\n",
    "\n",
    "How do you measure the accuracy of the ratings you calculate?\n",
    "\n",
    "One important thing to keep in mind is that in an approach based purely on collaborative filtering, the similarity is not calculated using factors like the age of users, genre of the movie, or any other data about users or items. It is calculated only on the basis of the rating (explicit or implicit) a user gives to an item. For example, two users can be considered similar if they give the same ratings to ten movies despite there being a big difference in their age."
   ]
  },
  {
   "cell_type": "markdown",
   "metadata": {},
   "source": [
    "## Memory Based\n",
    "\n",
    "To find the rating R that a user U would give to an item I, the approach includes:\n",
    "\n",
    "1.Finding users similar to U who have rated the item I \n",
    "\n",
    "2.Calculating the rating R based the ratings of users found in the previous step"
   ]
  },
  {
   "cell_type": "code",
   "execution_count": null,
   "metadata": {},
   "outputs": [],
   "source": [
    "# Using Cosine distances\n",
    "\n",
    "# With the similarity factor S for each user similar to the target user U, you can calculate the weighted average using this formula:\n",
    "#Sum(Ru*Su)/Sum(Su)\n"
   ]
  },
  {
   "cell_type": "markdown",
   "metadata": {},
   "source": [
    "## Model Based"
   ]
  },
  {
   "cell_type": "code",
   "execution_count": null,
   "metadata": {},
   "outputs": [],
   "source": []
  },
  {
   "cell_type": "markdown",
   "metadata": {},
   "source": [
    "# News Content\n",
    "\n",
    "### Recomends the lastest / Diverse"
   ]
  },
  {
   "cell_type": "code",
   "execution_count": null,
   "metadata": {},
   "outputs": [],
   "source": [
    "#recommend the TRENDING movie based on other similar users choices\n"
   ]
  },
  {
   "cell_type": "code",
   "execution_count": null,
   "metadata": {},
   "outputs": [],
   "source": [
    "#recommend the TRENDING movie based on DIVERSITY choices"
   ]
  },
  {
   "cell_type": "code",
   "execution_count": null,
   "metadata": {},
   "outputs": [],
   "source": []
  }
 ],
 "metadata": {
  "kernelspec": {
   "display_name": "Python 3",
   "language": "python",
   "name": "python3"
  },
  "language_info": {
   "codemirror_mode": {
    "name": "ipython",
    "version": 3
   },
   "file_extension": ".py",
   "mimetype": "text/x-python",
   "name": "python",
   "nbconvert_exporter": "python",
   "pygments_lexer": "ipython3",
   "version": "3.8.3"
  }
 },
 "nbformat": 4,
 "nbformat_minor": 4
}
